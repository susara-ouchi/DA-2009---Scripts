{
 "cells": [
  {
   "cell_type": "code",
   "execution_count": 1,
   "id": "e580d8d8",
   "metadata": {},
   "outputs": [],
   "source": [
    "import bs4"
   ]
  },
  {
   "cell_type": "code",
   "execution_count": 2,
   "id": "65ff2167",
   "metadata": {},
   "outputs": [
    {
     "name": "stdout",
     "output_type": "stream",
     "text": [
      "<!DOCTYPE html>\n",
      "<html>\n",
      " <head>\n",
      "  <title>\n",
      "   My Simple Page - Check\n",
      "  </title>\n",
      " </head>\n",
      " <body>\n",
      "  <h1>\n",
      "   Welcome to My Page\n",
      "  </h1>\n",
      "  <div id=\"about\">\n",
      "   <h2>\n",
      "    About Me\n",
      "   </h2>\n",
      "   <p>\n",
      "    I enjoy learning web development and Python.\n",
      "   </p>\n",
      "  </div>\n",
      "  <div class=\"section\">\n",
      "   <h2>\n",
      "    My Hobbies\n",
      "   </h2>\n",
      "   <ul>\n",
      "    <li>\n",
      "     Reading\n",
      "    </li>\n",
      "    <li>\n",
      "     Coding\n",
      "    </li>\n",
      "    <li>\n",
      "     Gaming\n",
      "    </li>\n",
      "   </ul>\n",
      "  </div>\n",
      " </body>\n",
      "</html>\n",
      "\n"
     ]
    }
   ],
   "source": [
    "from bs4 import BeautifulSoup\n",
    "\n",
    "with open(\"simple_page.html\", \"r\", encoding=\"utf-8\") as page1:\n",
    "    html = page1.read()\n",
    "    soup = BeautifulSoup(html,\"html.parser\")\n",
    "\n",
    "print(soup.prettify())"
   ]
  },
  {
   "cell_type": "code",
   "execution_count": 3,
   "id": "f71b9795",
   "metadata": {},
   "outputs": [
    {
     "name": "stdout",
     "output_type": "stream",
     "text": [
      "Title of the page is: My Simple Page - Check\n"
     ]
    }
   ],
   "source": [
    "title_1 = soup.title.text\n",
    "print(\"Title of the page is:\", title_1)"
   ]
  },
  {
   "cell_type": "code",
   "execution_count": 4,
   "id": "94e54b9a",
   "metadata": {},
   "outputs": [
    {
     "data": {
      "text/plain": [
       "[<div id=\"about\">\n",
       " <h2>About Me</h2>\n",
       " <p>I enjoy learning web development and Python.</p>\n",
       " </div>,\n",
       " <div class=\"section\">\n",
       " <h2>My Hobbies</h2>\n",
       " <ul>\n",
       " <li>Reading</li>\n",
       " <li>Coding</li>\n",
       " <li>Gaming</li>\n",
       " </ul>\n",
       " </div>]"
      ]
     },
     "execution_count": 4,
     "metadata": {},
     "output_type": "execute_result"
    }
   ],
   "source": [
    "div_tags = soup.find_all(\"div\")\n",
    "div_tags"
   ]
  },
  {
   "cell_type": "code",
   "execution_count": 5,
   "id": "b2d152e3",
   "metadata": {},
   "outputs": [
    {
     "name": "stdout",
     "output_type": "stream",
     "text": [
      "My motivation is: I enjoy learning web development and Python.\n"
     ]
    }
   ],
   "source": [
    "motivation = div_tags[0].p.text\n",
    "print(\"My motivation is:\", motivation)"
   ]
  },
  {
   "cell_type": "code",
   "execution_count": 6,
   "id": "49c4bcde",
   "metadata": {},
   "outputs": [
    {
     "data": {
      "text/plain": [
       "[<li>Reading</li>, <li>Coding</li>, <li>Gaming</li>]"
      ]
     },
     "execution_count": 6,
     "metadata": {},
     "output_type": "execute_result"
    }
   ],
   "source": [
    "hobby_items = soup.select(\"div.section ul li\")\n",
    "hobby_items"
   ]
  },
  {
   "cell_type": "code",
   "execution_count": 7,
   "id": "95457053",
   "metadata": {},
   "outputs": [
    {
     "data": {
      "text/plain": [
       "<li>Reading</li>"
      ]
     },
     "execution_count": 7,
     "metadata": {},
     "output_type": "execute_result"
    }
   ],
   "source": [
    "hobby_items[0]"
   ]
  },
  {
   "cell_type": "code",
   "execution_count": 8,
   "id": "c0b9d0b6",
   "metadata": {},
   "outputs": [
    {
     "name": "stdout",
     "output_type": "stream",
     "text": [
      "Reading\n",
      "Coding\n",
      "Gaming\n"
     ]
    }
   ],
   "source": [
    "for hobby in hobby_items:\n",
    "    print(hobby.text)"
   ]
  },
  {
   "cell_type": "code",
   "execution_count": null,
   "id": "e1bd312a",
   "metadata": {},
   "outputs": [],
   "source": []
  }
 ],
 "metadata": {
  "kernelspec": {
   "display_name": ".venv",
   "language": "python",
   "name": "python3"
  },
  "language_info": {
   "codemirror_mode": {
    "name": "ipython",
    "version": 3
   },
   "file_extension": ".py",
   "mimetype": "text/x-python",
   "name": "python",
   "nbconvert_exporter": "python",
   "pygments_lexer": "ipython3",
   "version": "3.12.4"
  }
 },
 "nbformat": 4,
 "nbformat_minor": 5
}
