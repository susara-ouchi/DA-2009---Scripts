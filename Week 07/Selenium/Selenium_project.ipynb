{
 "cells": [
  {
   "cell_type": "markdown",
   "id": "bb012d6f",
   "metadata": {},
   "source": [
    "### Importing libraries"
   ]
  },
  {
   "cell_type": "code",
   "execution_count": null,
   "id": "c4b7218e",
   "metadata": {},
   "outputs": [],
   "source": [
    "from selenium import webdriver\n",
    "from selenium.webdriver.common.by import By\n",
    "from selenium.webdriver.support.ui import WebDriverWait, Select\n",
    "from selenium.webdriver.support import expected_conditions as EC\n",
    "import time"
   ]
  },
  {
   "cell_type": "markdown",
   "id": "5267fbc7",
   "metadata": {},
   "source": [
    "### Setting up webdriver and checking"
   ]
  },
  {
   "cell_type": "code",
   "execution_count": null,
   "id": "c0c00d2f",
   "metadata": {},
   "outputs": [],
   "source": [
    "# Setup: choose Chrome (make sure chromedriver is installed)\n",
    "driver = webdriver.Chrome()\n",
    "\n",
    "# 1. Open a test website\n",
    "driver.get(\"https://www.selenium.dev/selenium/web/web-form.html\")\n",
    "driver.maximize_window()\n",
    "\n",
    "# To leave some space between requests\n",
    "time.sleep(10)\n",
    "\n",
    "# Quit the driver\n",
    "driver.quit()"
   ]
  },
  {
   "cell_type": "markdown",
   "id": "1323a73e",
   "metadata": {},
   "source": [
    "### Finding elements"
   ]
  },
  {
   "cell_type": "code",
   "execution_count": 12,
   "id": "cceb6fa0",
   "metadata": {},
   "outputs": [
    {
     "name": "stdout",
     "output_type": "stream",
     "text": [
      "Form result text: Received!\n",
      "Screenshot saved.\n"
     ]
    }
   ],
   "source": [
    "# Setup: choose Chrome (make sure chromedriver is installed)\n",
    "driver = webdriver.Chrome()\n",
    "\n",
    "# 1. Open a test website\n",
    "driver.get(\"https://www.selenium.dev/selenium/web/web-form.html\")\n",
    "driver.maximize_window()\n",
    "# 2. Find elements by ID, NAME, CSS, XPATH and interact\n",
    "text_box = driver.find_element(By.ID, \"my-text-id\")     # by ID\n",
    "text_box.send_keys(\"Hello Selenium!\")\n",
    "\n",
    "password_box = driver.find_element(By.NAME, \"my-password\")  # by NAME\n",
    "password_box.send_keys(\"123456\")\n",
    "\n",
    "text_area = driver.find_element(By.CSS_SELECTOR, \"textarea\") # by CSS\n",
    "text_area.send_keys(\"This is a test message.\")\n",
    "\n",
    "# 3. Dropdown selection\n",
    "select_elem = Select(driver.find_element(By.XPATH, \"//select\"))  # by XPath\n",
    "select_elem.select_by_visible_text(\"Two\")\n",
    "\n",
    "# 4. Checkboxes and radio buttons\n",
    "checkbox = driver.find_element(By.ID, \"my-check-1\")\n",
    "checkbox.click()\n",
    "\n",
    "radio = driver.find_element(By.ID, \"my-radio-2\")\n",
    "radio.click()\n",
    "\n",
    "# 5. Wait until button is clickable and click it\n",
    "submit_btn = WebDriverWait(driver, 10).until(\n",
    "    EC.element_to_be_clickable((By.CSS_SELECTOR, \"button\"))\n",
    ")\n",
    "submit_btn.click()\n",
    "\n",
    "# 6. Wait for result and print it\n",
    "message = WebDriverWait(driver, 10).until(\n",
    "    EC.presence_of_element_located((By.ID, \"message\"))\n",
    ")\n",
    "print(\"Form result text:\", message.text)\n",
    "\n",
    "# 7. Take a screenshot\n",
    "driver.save_screenshot(\"form_result.png\")\n",
    "print(\"Screenshot saved.\")\n",
    "\n",
    "# 8. Sleep so you can see it before closing\n",
    "time.sleep(3)\n"
   ]
  },
  {
   "cell_type": "code",
   "execution_count": null,
   "id": "7c9c919d",
   "metadata": {},
   "outputs": [],
   "source": [
    "try:\n",
    "    # 1. Open a test website\n",
    "    driver.get(\"https://www.selenium.dev/selenium/web/web-form.html\")\n",
    "    driver.maximize_window()\n",
    "\n",
    "    # 2. Find elements by ID, NAME, CSS, XPATH and interact\n",
    "    text_box = driver.find_element(By.ID, \"my-text-id\")     # by ID\n",
    "    text_box.send_keys(\"Hello Selenium!\")\n",
    "\n",
    "    password_box = driver.find_element(By.NAME, \"my-password\")  # by NAME\n",
    "    password_box.send_keys(\"123456\")\n",
    "\n",
    "    text_area = driver.find_element(By.CSS_SELECTOR, \"textarea\") # by CSS\n",
    "    text_area.send_keys(\"This is a test message.\")\n",
    "\n",
    "    # 3. Dropdown selection\n",
    "    select_elem = Select(driver.find_element(By.XPATH, \"//select\"))  # by XPath\n",
    "    select_elem.select_by_visible_text(\"Two\")\n",
    "\n",
    "    # 4. Checkboxes and radio buttons\n",
    "    checkbox = driver.find_element(By.ID, \"my-check-1\")\n",
    "    checkbox.click()\n",
    "\n",
    "    radio = driver.find_element(By.ID, \"my-radio-2\")\n",
    "    radio.click()\n",
    "\n",
    "    # 5. Wait until button is clickable and click it\n",
    "    submit_btn = WebDriverWait(driver, 10).until(\n",
    "        EC.element_to_be_clickable((By.CSS_SELECTOR, \"button\"))\n",
    "    )\n",
    "    submit_btn.click()\n",
    "\n",
    "    # 6. Wait for result and print it\n",
    "    message = WebDriverWait(driver, 10).until(\n",
    "        EC.presence_of_element_located((By.ID, \"message\"))\n",
    "    )\n",
    "    print(\"Form result text:\", message.text)\n",
    "\n",
    "    # 7. Take a screenshot\n",
    "    driver.save_screenshot(\"form_result.png\")\n",
    "    print(\"Screenshot saved.\")\n",
    "\n",
    "    # 8. Sleep so you can see it before closing\n",
    "    time.sleep(3)\n",
    "\n",
    "finally:\n",
    "    # Close browser\n",
    "    driver.quit()"
   ]
  }
 ],
 "metadata": {
  "kernelspec": {
   "display_name": ".venv",
   "language": "python",
   "name": "python3"
  },
  "language_info": {
   "codemirror_mode": {
    "name": "ipython",
    "version": 3
   },
   "file_extension": ".py",
   "mimetype": "text/x-python",
   "name": "python",
   "nbconvert_exporter": "python",
   "pygments_lexer": "ipython3",
   "version": "3.12.4"
  }
 },
 "nbformat": 4,
 "nbformat_minor": 5
}
