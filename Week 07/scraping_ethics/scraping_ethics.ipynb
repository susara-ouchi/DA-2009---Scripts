{
 "cells": [
  {
   "cell_type": "markdown",
   "id": "ce586ee1",
   "metadata": {},
   "source": [
    "### Ethics in Webscraping"
   ]
  },
  {
   "cell_type": "markdown",
   "id": "44830a1c",
   "metadata": {},
   "source": [
    "Example of Using Proper Headers in a Scraping Request (Python with requests):"
   ]
  },
  {
   "cell_type": "code",
   "execution_count": 3,
   "id": "7c62dbe1",
   "metadata": {},
   "outputs": [
    {
     "name": "stdout",
     "output_type": "stream",
     "text": [
      "200\n"
     ]
    }
   ],
   "source": [
    "import requests\n",
    "\n",
    "headers = {\n",
    "    \"User-Agent\": \"Mozilla/5.0 (Windows NT 10.0; Win64; x64) \"\n",
    "                  \"AppleWebKit/537.36 (KHTML, like Gecko) \"\n",
    "                  \"Chrome/115.0 Safari/537.36\"\n",
    "}\n",
    "\n",
    "response = requests.get(\"https://example.com\", headers=headers)\n",
    "print(response.status_code)"
   ]
  },
  {
   "cell_type": "code",
   "execution_count": null,
   "id": "2842ff2a",
   "metadata": {},
   "outputs": [],
   "source": []
  }
 ],
 "metadata": {
  "kernelspec": {
   "display_name": ".venv",
   "language": "python",
   "name": "python3"
  },
  "language_info": {
   "codemirror_mode": {
    "name": "ipython",
    "version": 3
   },
   "file_extension": ".py",
   "mimetype": "text/x-python",
   "name": "python",
   "nbconvert_exporter": "python",
   "pygments_lexer": "ipython3",
   "version": "3.12.4"
  }
 },
 "nbformat": 4,
 "nbformat_minor": 5
}
