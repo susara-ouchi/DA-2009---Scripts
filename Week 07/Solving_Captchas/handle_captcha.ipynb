{
 "cells": [
  {
   "cell_type": "markdown",
   "id": "7a08a541",
   "metadata": {},
   "source": [
    "### Handling Captchas in a demo site"
   ]
  },
  {
   "cell_type": "code",
   "execution_count": null,
   "id": "0db5566e",
   "metadata": {},
   "outputs": [
    {
     "name": "stdout",
     "output_type": "stream",
     "text": [
      "Clicked the reCAPTCHA checkbox. You may still need to solve images manually.\n"
     ]
    }
   ],
   "source": [
    "from selenium import webdriver\n",
    "from selenium.webdriver.common.by import By\n",
    "import time\n",
    "\n",
    "driver = webdriver.Chrome()\n",
    "driver.get(\"https://www.google.com/recaptcha/api2/demo\")\n",
    "\n",
    "# Switch to the reCAPTCHA iframe\n",
    "iframe = driver.find_element(By.XPATH, \"//iframe[contains(@src, 'recaptcha')]\")\n",
    "driver.switch_to.frame(iframe)\n",
    "\n",
    "# Click the checkbox\n",
    "checkbox = driver.find_element(By.CLASS_NAME, \"recaptcha-checkbox-border\")\n",
    "checkbox.click()\n",
    "\n",
    "# Switch back to main content\n",
    "driver.switch_to.default_content()\n",
    "\n",
    "print(\"Clicked the reCAPTCHA checkbox.\")\n",
    "time.sleep(10)  # Wait to see it before quitting\n",
    "driver.quit()\n"
   ]
  },
  {
   "cell_type": "markdown",
   "id": "2bb9a121",
   "metadata": {},
   "source": [
    "### Handling Captchas using a 3rd party (2Captcha)"
   ]
  },
  {
   "cell_type": "markdown",
   "id": "72a65071",
   "metadata": {},
   "source": [
    "Note that this would require paid features and hence will be considered out of scope - only demonstrated for additional knowledge"
   ]
  },
  {
   "cell_type": "code",
   "execution_count": null,
   "id": "78b41a3f",
   "metadata": {},
   "outputs": [
    {
     "name": "stdout",
     "output_type": "stream",
     "text": [
      "Site Key: 6Le-wvkSAAAAAPBMRTvw0Q4Muexq9bi0DJwx_mJ-\n",
      "Captcha Request ID: ERROR_ZERO_BALANCE\n",
      "Failed to solve CAPTCHA.\n"
     ]
    }
   ],
   "source": [
    "import time\n",
    "import requests\n",
    "from selenium import webdriver\n",
    "from selenium.webdriver.common.by import By\n",
    "\n",
    "API_KEY = \"ADD API KEY\"  # Get from https://2captcha.com/\n",
    "\n",
    "# 1. Open browser and go to test page\n",
    "driver = webdriver.Chrome()\n",
    "driver.get(\"https://www.google.com/recaptcha/api2/demo\")\n",
    "\n",
    "# 2. Get sitekey from the page (visible in HTML)\n",
    "site_key = driver.find_element(By.CLASS_NAME, \"g-recaptcha\").get_attribute(\"data-sitekey\")\n",
    "print(\"Site Key:\", site_key)\n",
    "\n",
    "# 3. Send sitekey + page URL to 2Captcha\n",
    "url = \"https://www.google.com/recaptcha/api2/demo\"\n",
    "resp = requests.post(\n",
    "    \"http://2captcha.com/in.php\",\n",
    "    data={\n",
    "        \"key\": API_KEY,\n",
    "        \"method\": \"userrecaptcha\",\n",
    "        \"googlekey\": site_key,\n",
    "        \"pageurl\": url,\n",
    "        \"json\": 1\n",
    "    }\n",
    ")\n",
    "request_id = resp.json()[\"request\"]\n",
    "print(\"Captcha Request ID:\", request_id)\n",
    "\n",
    "# 4. Poll for the result\n",
    "recaptcha_answer = None\n",
    "for _ in range(20):\n",
    "    time.sleep(5)  # wait between polls\n",
    "    result = requests.get(\n",
    "        f\"http://2captcha.com/res.php?key={API_KEY}&action=get&id={request_id}&json=1\"\n",
    "    )\n",
    "    if result.json()[\"status\"] == 1:\n",
    "        recaptcha_answer = result.json()[\"request\"]\n",
    "        break\n",
    "\n",
    "if recaptcha_answer:\n",
    "    print(\"CAPTCHA Solved!\")\n",
    "    \n",
    "    # 5. Inject token into the page\n",
    "    driver.execute_script(\n",
    "        f'document.getElementById(\"g-recaptcha-response\").innerHTML=\"{recaptcha_answer}\";'\n",
    "    )\n",
    "    time.sleep(1)\n",
    "\n",
    "    # 6. Submit the form\n",
    "    driver.find_element(By.ID, \"recaptcha-demo-submit\").click()\n",
    "\n",
    "    print(\"Form submitted after CAPTCHA solve.\")\n",
    "else:\n",
    "    print(\"Failed to solve CAPTCHA.\")\n",
    "\n",
    "time.sleep(5)\n",
    "driver.quit()\n"
   ]
  }
 ],
 "metadata": {
  "kernelspec": {
   "display_name": ".venv",
   "language": "python",
   "name": "python3"
  },
  "language_info": {
   "codemirror_mode": {
    "name": "ipython",
    "version": 3
   },
   "file_extension": ".py",
   "mimetype": "text/x-python",
   "name": "python",
   "nbconvert_exporter": "python",
   "pygments_lexer": "ipython3",
   "version": "3.12.4"
  }
 },
 "nbformat": 4,
 "nbformat_minor": 5
}
