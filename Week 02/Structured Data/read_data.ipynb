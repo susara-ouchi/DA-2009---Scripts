{
 "cells": [
  {
   "cell_type": "markdown",
   "id": "477bdcf6",
   "metadata": {},
   "source": [
    "Read CSV"
   ]
  },
  {
   "cell_type": "code",
   "execution_count": 1,
   "id": "ce800239",
   "metadata": {},
   "outputs": [],
   "source": [
    "import pandas as pd\n",
    "\n",
    "url = \"https://raw.githubusercontent.com/datasciencedojo/datasets/master/titanic.csv\"\n",
    "\n",
    "df = pd.read_csv(url)\n",
    "df.to_csv(\"Exported outputs/Titanic.csv\", index=False)"
   ]
  },
  {
   "cell_type": "code",
   "execution_count": 2,
   "id": "d0232fa9",
   "metadata": {},
   "outputs": [],
   "source": [
    "df.to_excel(\"Exported outputs/Titanic.xlsx\", index=False)"
   ]
  },
  {
   "cell_type": "markdown",
   "id": "cf7d93b0",
   "metadata": {},
   "source": [
    "Read JSON"
   ]
  },
  {
   "cell_type": "code",
   "execution_count": 3,
   "id": "24a1b782",
   "metadata": {},
   "outputs": [],
   "source": [
    "api_url = \"https://api.exchangerate-api.com/v4/latest/USD\"\n",
    "\n",
    "df_json = pd.read_json(api_url)\n",
    "df_json.to_csv(\"Exported outputs/ExchangeRates.csv\", index=False)"
   ]
  },
  {
   "cell_type": "markdown",
   "id": "4a265853",
   "metadata": {},
   "source": [
    "Exercises"
   ]
  },
  {
   "cell_type": "code",
   "execution_count": 4,
   "id": "deb80f0e",
   "metadata": {},
   "outputs": [],
   "source": [
    "# 1 - Cities\n",
    "url = \"https://people.sc.fsu.edu/~jburkardt/data/csv/cities.csv\"\n",
    "df = pd.read_csv(url)\n",
    "df.to_csv(\"Exported outputs/Ex-01-Cities.csv\", index=False)"
   ]
  },
  {
   "cell_type": "code",
   "execution_count": 5,
   "id": "e96b1063",
   "metadata": {},
   "outputs": [],
   "source": [
    "# 2 - GDP\n",
    "url = \"https://raw.githubusercontent.com/datasets/gdp/master/data/gdp.csv\"\n",
    "df = pd.read_csv(url)\n",
    "df.to_csv(\"Exported outputs/Ex-02-GDP.csv\", index=False)"
   ]
  },
  {
   "cell_type": "code",
   "execution_count": 6,
   "id": "fab4f696",
   "metadata": {},
   "outputs": [],
   "source": [
    "# 3 - Iris\n",
    "url = \"https://raw.githubusercontent.com/uiuc-cse/data-fa14/gh-pages/data/iris.csv\"\n",
    "df = pd.read_csv(url)\n",
    "df.to_excel(\"Exported outputs/Ex-03-Iris.xlsx\", index=False)"
   ]
  },
  {
   "cell_type": "markdown",
   "id": "43d30ada",
   "metadata": {},
   "source": [
    "Requests + Pandas"
   ]
  },
  {
   "cell_type": "code",
   "execution_count": 7,
   "id": "36b978c8",
   "metadata": {},
   "outputs": [],
   "source": [
    "api_url = \"https://catfact.ninja/fact\"\n",
    "\n",
    "# This gives an error - because it is a single dictionary\n",
    "# df_json = pd.read_json(api_url)"
   ]
  },
  {
   "cell_type": "code",
   "execution_count": 8,
   "id": "5ae52a02",
   "metadata": {},
   "outputs": [],
   "source": [
    "import requests\n",
    "\n",
    "response = requests.get(api_url)\n",
    "data = response.json()\n",
    "\n",
    "df = pd.DataFrame([data])\n",
    "df.to_csv(\"Exported outputs/CatNinja.csv\",index=False)"
   ]
  },
  {
   "cell_type": "code",
   "execution_count": 9,
   "id": "aa229045",
   "metadata": {},
   "outputs": [],
   "source": [
    "api_url = \"https://randomuser.me/api/?results=5\"\n",
    "# This gives an error - Mixing (Nested) dicts with non-Series may lead to ambiguous ordering.\n",
    "# df_json = pd.read_json(api_url)"
   ]
  },
  {
   "cell_type": "code",
   "execution_count": 10,
   "id": "f8be910a",
   "metadata": {},
   "outputs": [],
   "source": [
    "response = requests.get(api_url)\n",
    "data = response.json()\n",
    "df0 = data[\"results\"]\n",
    "\n",
    "df = pd.json_normalize(df0)\n",
    "df.to_csv(\"Exported outputs/Ex-04-randomUsers.csv\",index=False)"
   ]
  },
  {
   "cell_type": "code",
   "execution_count": null,
   "id": "a40e2cc2",
   "metadata": {},
   "outputs": [],
   "source": []
  }
 ],
 "metadata": {
  "kernelspec": {
   "display_name": ".venv",
   "language": "python",
   "name": "python3"
  },
  "language_info": {
   "codemirror_mode": {
    "name": "ipython",
    "version": 3
   },
   "file_extension": ".py",
   "mimetype": "text/x-python",
   "name": "python",
   "nbconvert_exporter": "python",
   "pygments_lexer": "ipython3",
   "version": "3.12.4"
  }
 },
 "nbformat": 4,
 "nbformat_minor": 5
}
