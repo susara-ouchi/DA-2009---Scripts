{
 "cells": [
  {
   "cell_type": "markdown",
   "id": "054de6ca",
   "metadata": {},
   "source": [
    "### Python Basics - week 01"
   ]
  },
  {
   "cell_type": "code",
   "execution_count": 1,
   "id": "e4ed02db",
   "metadata": {},
   "outputs": [
    {
     "name": "stdout",
     "output_type": "stream",
     "text": [
      "Hi\n"
     ]
    }
   ],
   "source": [
    "print(\"Hi\")"
   ]
  },
  {
   "cell_type": "code",
   "execution_count": 2,
   "id": "1259ae0c",
   "metadata": {},
   "outputs": [
    {
     "name": "stdout",
     "output_type": "stream",
     "text": [
      "Muditha\n"
     ]
    },
    {
     "data": {
      "text/plain": [
       "str"
      ]
     },
     "execution_count": 2,
     "metadata": {},
     "output_type": "execute_result"
    }
   ],
   "source": [
    "# String\n",
    "name = \"Muditha\"\n",
    "print(name)\n",
    "type(name)"
   ]
  },
  {
   "cell_type": "code",
   "execution_count": 3,
   "id": "29cca81d",
   "metadata": {},
   "outputs": [
    {
     "name": "stdout",
     "output_type": "stream",
     "text": [
      "23\n"
     ]
    },
    {
     "data": {
      "text/plain": [
       "int"
      ]
     },
     "execution_count": 3,
     "metadata": {},
     "output_type": "execute_result"
    }
   ],
   "source": [
    "# Integer\n",
    "age = 23\n",
    "print(age)\n",
    "type(age)"
   ]
  },
  {
   "cell_type": "code",
   "execution_count": 4,
   "id": "cda8e730",
   "metadata": {},
   "outputs": [
    {
     "name": "stdout",
     "output_type": "stream",
     "text": [
      "True\n"
     ]
    },
    {
     "data": {
      "text/plain": [
       "bool"
      ]
     },
     "execution_count": 4,
     "metadata": {},
     "output_type": "execute_result"
    }
   ],
   "source": [
    "# Bolean\n",
    "is_student = True\n",
    "print(is_student)\n",
    "type(is_student)"
   ]
  },
  {
   "cell_type": "code",
   "execution_count": 5,
   "id": "d315aa33",
   "metadata": {},
   "outputs": [
    {
     "name": "stdout",
     "output_type": "stream",
     "text": [
      "['Muditha', 'Dhanusha', 'Ashoka']\n"
     ]
    },
    {
     "data": {
      "text/plain": [
       "list"
      ]
     },
     "execution_count": 5,
     "metadata": {},
     "output_type": "execute_result"
    }
   ],
   "source": [
    "# List\n",
    "students = [\"Muditha\", \"Dhanusha\", \"Ashoka\"]\n",
    "print(students)\n",
    "type(students)"
   ]
  },
  {
   "cell_type": "code",
   "execution_count": 6,
   "id": "756a1437",
   "metadata": {},
   "outputs": [],
   "source": [
    "# Dictionary\n",
    "name = \"Dinusha\"\n",
    "time = 10         # in seconds"
   ]
  },
  {
   "cell_type": "code",
   "execution_count": null,
   "id": "ce89e59a",
   "metadata": {},
   "outputs": [
    {
     "name": "stdout",
     "output_type": "stream",
     "text": [
      "{'Bolt': 'Bolt', 'time': 9.69}\n"
     ]
    }
   ],
   "source": [
    "run_time = {\"name\": \"Bolt\", \"time\": 9.69}\n",
    "print(run_time)"
   ]
  },
  {
   "cell_type": "code",
   "execution_count": 8,
   "id": "10c39f12",
   "metadata": {},
   "outputs": [
    {
     "data": {
      "text/plain": [
       "{'name': 'John', 'age': 30}"
      ]
     },
     "execution_count": 8,
     "metadata": {},
     "output_type": "execute_result"
    }
   ],
   "source": [
    "responder = {'name': \"John\", 'age': 30}\n",
    "responder"
   ]
  },
  {
   "cell_type": "code",
   "execution_count": 9,
   "id": "a529bf41",
   "metadata": {},
   "outputs": [
    {
     "data": {
      "text/plain": [
       "{'first name': 'Usain',\n",
       " 'last name': 'Bolt',\n",
       " 'full name': 'Usain Bolt',\n",
       " 'Still an athelete?': False,\n",
       " 'Olympics won': ['2008', '2012', '2016']}"
      ]
     },
     "execution_count": 9,
     "metadata": {},
     "output_type": "execute_result"
    }
   ],
   "source": [
    "first_name = \"Usain\"\n",
    "last_name = \"Bolt\"\n",
    "\n",
    "full_name = first_name +\" \"+ last_name\n",
    "full_name\n",
    "\n",
    "age = 40\n",
    "\n",
    "is_active = False\n",
    "\n",
    "Olympics_won = [\"2008\", \"2012\",\"2016\"]\n",
    "\n",
    "name_register = {\n",
    "    \"first name\": first_name,\n",
    "    \"last name\": last_name,\n",
    "    \"full name\": full_name,\n",
    "    \"Still an athelete?\": is_active,\n",
    "    \"Olympics won\": Olympics_won\n",
    "}\n",
    "name_register"
   ]
  },
  {
   "cell_type": "code",
   "execution_count": 10,
   "id": "66662221",
   "metadata": {},
   "outputs": [
    {
     "data": {
      "text/plain": [
       "dict_items([('first name', 'Usain'), ('last name', 'Bolt'), ('full name', 'Usain Bolt'), ('Still an athelete?', False), ('Olympics won', ['2008', '2012', '2016'])])"
      ]
     },
     "execution_count": 10,
     "metadata": {},
     "output_type": "execute_result"
    }
   ],
   "source": [
    "name_register.items()"
   ]
  },
  {
   "cell_type": "markdown",
   "id": "542a4503",
   "metadata": {},
   "source": [
    "Looping through dict items"
   ]
  },
  {
   "cell_type": "code",
   "execution_count": 11,
   "id": "b1bed9bc",
   "metadata": {},
   "outputs": [
    {
     "name": "stdout",
     "output_type": "stream",
     "text": [
      "Name:  first name\n",
      "Value  Usain\n",
      "Data type  <class 'str'>\n",
      "Name:  last name\n",
      "Value  Bolt\n",
      "Data type  <class 'str'>\n",
      "Name:  full name\n",
      "Value  Usain Bolt\n",
      "Data type  <class 'str'>\n",
      "Name:  Still an athelete?\n",
      "Value  False\n",
      "Data type  <class 'bool'>\n",
      "Name:  Olympics won\n",
      "Value  ['2008', '2012', '2016']\n",
      "Data type  <class 'list'>\n"
     ]
    }
   ],
   "source": [
    "for var_name, value in name_register.items():\n",
    "    print(\"Name: \",var_name)\n",
    "    print(\"Value \", value)\n",
    "    print(\"Data type \", type(value))"
   ]
  },
  {
   "cell_type": "markdown",
   "id": "6b31122b",
   "metadata": {},
   "source": [
    "Using f-strings"
   ]
  },
  {
   "cell_type": "code",
   "execution_count": 12,
   "id": "c31c7a9f",
   "metadata": {},
   "outputs": [
    {
     "name": "stdout",
     "output_type": "stream",
     "text": [
      "Name: first name\n",
      "Value: Usain\n",
      "Data type: <class 'str'>\n",
      "Name: last name\n",
      "Value: Bolt\n",
      "Data type: <class 'str'>\n",
      "Name: full name\n",
      "Value: Usain Bolt\n",
      "Data type: <class 'str'>\n",
      "Name: Still an athelete?\n",
      "Value: False\n",
      "Data type: <class 'bool'>\n",
      "Name: Olympics won\n",
      "Value: ['2008', '2012', '2016']\n",
      "Data type: <class 'list'>\n"
     ]
    }
   ],
   "source": [
    "for var_name, value in name_register.items():\n",
    "    print(f\"Name: {var_name}\")\n",
    "    print(f\"Value: {value}\")\n",
    "    print(f\"Data type: {type(value)}\")"
   ]
  },
  {
   "cell_type": "markdown",
   "id": "257ca033",
   "metadata": {},
   "source": [
    "Data frames"
   ]
  },
  {
   "cell_type": "code",
   "execution_count": 13,
   "id": "4ff299e8",
   "metadata": {},
   "outputs": [
    {
     "data": {
      "text/plain": [
       "'list'"
      ]
     },
     "execution_count": 13,
     "metadata": {},
     "output_type": "execute_result"
    }
   ],
   "source": [
    "type(value).__name__"
   ]
  },
  {
   "cell_type": "code",
   "execution_count": 14,
   "id": "6d073b4c",
   "metadata": {},
   "outputs": [],
   "source": [
    "data = []\n",
    "\n",
    "for var_name, value in name_register.items():\n",
    "    data.append({\n",
    "        \"Data \":var_name,\n",
    "        \"Value\": value,\n",
    "        \"Type\": type(value).__name__\n",
    "    })"
   ]
  },
  {
   "cell_type": "code",
   "execution_count": 15,
   "id": "cb89e51e",
   "metadata": {},
   "outputs": [
    {
     "data": {
      "text/plain": [
       "[{'Data ': 'first name', 'Value': 'Usain', 'Type': 'str'},\n",
       " {'Data ': 'last name', 'Value': 'Bolt', 'Type': 'str'},\n",
       " {'Data ': 'full name', 'Value': 'Usain Bolt', 'Type': 'str'},\n",
       " {'Data ': 'Still an athelete?', 'Value': False, 'Type': 'bool'},\n",
       " {'Data ': 'Olympics won', 'Value': ['2008', '2012', '2016'], 'Type': 'list'}]"
      ]
     },
     "execution_count": 15,
     "metadata": {},
     "output_type": "execute_result"
    }
   ],
   "source": [
    "data"
   ]
  },
  {
   "cell_type": "code",
   "execution_count": 16,
   "id": "23b47d57",
   "metadata": {},
   "outputs": [
    {
     "data": {
      "text/html": [
       "<div>\n",
       "<style scoped>\n",
       "    .dataframe tbody tr th:only-of-type {\n",
       "        vertical-align: middle;\n",
       "    }\n",
       "\n",
       "    .dataframe tbody tr th {\n",
       "        vertical-align: top;\n",
       "    }\n",
       "\n",
       "    .dataframe thead th {\n",
       "        text-align: right;\n",
       "    }\n",
       "</style>\n",
       "<table border=\"1\" class=\"dataframe\">\n",
       "  <thead>\n",
       "    <tr style=\"text-align: right;\">\n",
       "      <th></th>\n",
       "      <th>Data</th>\n",
       "      <th>Value</th>\n",
       "      <th>Type</th>\n",
       "    </tr>\n",
       "  </thead>\n",
       "  <tbody>\n",
       "    <tr>\n",
       "      <th>0</th>\n",
       "      <td>first name</td>\n",
       "      <td>Usain</td>\n",
       "      <td>str</td>\n",
       "    </tr>\n",
       "    <tr>\n",
       "      <th>1</th>\n",
       "      <td>last name</td>\n",
       "      <td>Bolt</td>\n",
       "      <td>str</td>\n",
       "    </tr>\n",
       "    <tr>\n",
       "      <th>2</th>\n",
       "      <td>full name</td>\n",
       "      <td>Usain Bolt</td>\n",
       "      <td>str</td>\n",
       "    </tr>\n",
       "    <tr>\n",
       "      <th>3</th>\n",
       "      <td>Still an athelete?</td>\n",
       "      <td>False</td>\n",
       "      <td>bool</td>\n",
       "    </tr>\n",
       "    <tr>\n",
       "      <th>4</th>\n",
       "      <td>Olympics won</td>\n",
       "      <td>[2008, 2012, 2016]</td>\n",
       "      <td>list</td>\n",
       "    </tr>\n",
       "  </tbody>\n",
       "</table>\n",
       "</div>"
      ],
      "text/plain": [
       "                Data                Value  Type\n",
       "0          first name               Usain   str\n",
       "1           last name                Bolt   str\n",
       "2           full name          Usain Bolt   str\n",
       "3  Still an athelete?               False  bool\n",
       "4        Olympics won  [2008, 2012, 2016]  list"
      ]
     },
     "execution_count": 16,
     "metadata": {},
     "output_type": "execute_result"
    }
   ],
   "source": [
    "import pandas as pd\n",
    "df = pd.DataFrame(data)\n",
    "df"
   ]
  },
  {
   "cell_type": "markdown",
   "id": "f8e7eb6a",
   "metadata": {},
   "source": [
    "CSV"
   ]
  },
  {
   "cell_type": "code",
   "execution_count": 17,
   "id": "959b0497",
   "metadata": {},
   "outputs": [],
   "source": [
    "rel_path = \"Exported data/\"\n",
    "df.to_csv(rel_path+\"Runner data.csv\", index = False)"
   ]
  },
  {
   "cell_type": "markdown",
   "id": "965e2d59",
   "metadata": {},
   "source": [
    "Excel"
   ]
  },
  {
   "cell_type": "code",
   "execution_count": 18,
   "id": "24d78d1d",
   "metadata": {},
   "outputs": [],
   "source": [
    "rel_path = \"Exported data/\"\n",
    "df.to_excel(rel_path+\"Runner data.xlsx\", index= False)"
   ]
  },
  {
   "cell_type": "markdown",
   "id": "9dae1cbf",
   "metadata": {},
   "source": [
    "JSON"
   ]
  },
  {
   "cell_type": "code",
   "execution_count": 19,
   "id": "79c84e56",
   "metadata": {},
   "outputs": [],
   "source": [
    "rel_path = \"Exported data/\"\n",
    "df.to_json(rel_path+\"Runner data.json\", orient = \"records\",indent= 2)"
   ]
  }
 ],
 "metadata": {
  "kernelspec": {
   "display_name": ".venv",
   "language": "python",
   "name": "python3"
  },
  "language_info": {
   "codemirror_mode": {
    "name": "ipython",
    "version": 3
   },
   "file_extension": ".py",
   "mimetype": "text/x-python",
   "name": "python",
   "nbconvert_exporter": "python",
   "pygments_lexer": "ipython3",
   "version": "3.12.4"
  }
 },
 "nbformat": 4,
 "nbformat_minor": 5
}
