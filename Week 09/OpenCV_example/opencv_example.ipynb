{
 "cells": [
  {
   "cell_type": "code",
   "execution_count": null,
   "id": "7df29b7e",
   "metadata": {},
   "outputs": [],
   "source": [
    "# Install OpenCV if not already installed\n",
    "# !pip install opencv-python\n",
    "\n",
    "import cv2\n",
    "from IPython.display import display, Image as IPImage\n",
    "import numpy as np\n",
    "\n",
    "# 1. Load the image\n",
    "img_path = \"example_receipt.jpg\"\n",
    "img = cv2.imread(img_path)\n",
    "\n",
    "# Convert BGR (OpenCV default) to RGB for display\n",
    "img_rgb = cv2.cvtColor(img, cv2.COLOR_BGR2RGB)\n",
    "cv2.imwrite(\"original_rgb.jpg\", img_rgb)\n",
    "display(IPImage(\"original_rgb.jpg\"))\n",
    "\n",
    "# 2. Convert to grayscale\n",
    "gray = cv2.cvtColor(img, cv2.COLOR_BGR2GRAY)\n",
    "cv2.imwrite(\"gray.jpg\", gray)\n",
    "display(IPImage(\"gray.jpg\"))\n",
    "\n",
    "# 3. Apply thresholding (binarization) to enhance text\n",
    "thresh = cv2.threshold(gray, 0, 255, cv2.THRESH_BINARY + cv2.THRESH_OTSU)[1]\n",
    "cv2.imwrite(\"thresh.jpg\", thresh)\n",
    "display(IPImage(\"thresh.jpg\"))\n",
    "\n",
    "# 4. Remove noise using median blur\n",
    "denoised = cv2.medianBlur(thresh, 3)\n",
    "cv2.imwrite(\"denoised.jpg\", denoised)\n",
    "display(IPImage(\"denoised.jpg\"))\n",
    "\n",
    "# 5. Optional: Dilate and erode to strengthen text\n",
    "kernel = np.ones((2,2), np.uint8)\n",
    "processed = cv2.dilate(denoised, kernel, iterations=1)\n",
    "processed = cv2.erode(processed, kernel, iterations=1)\n",
    "cv2.imwrite(\"processed.jpg\", processed)\n",
    "display(IPImage(\"processed.jpg\"))\n",
    "\n",
    "# Now the image is preprocessed and ready for OCR\n"
   ]
  }
 ],
 "metadata": {
  "kernelspec": {
   "display_name": ".venv",
   "language": "python",
   "name": "python3"
  },
  "language_info": {
   "name": "python",
   "version": "3.12.4"
  }
 },
 "nbformat": 4,
 "nbformat_minor": 5
}
