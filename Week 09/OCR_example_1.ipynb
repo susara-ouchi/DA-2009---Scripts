{
 "cells": [
  {
   "cell_type": "code",
   "execution_count": 1,
   "id": "a49afa04",
   "metadata": {},
   "outputs": [],
   "source": [
    "# !pip install opencv-python pytesseract"
   ]
  },
  {
   "cell_type": "code",
   "execution_count": 16,
   "id": "2b766179",
   "metadata": {},
   "outputs": [],
   "source": [
    "import cv2\n",
    "import pytesseract\n",
    "from PIL import Image\n",
    "import numpy as np\n",
    "import pandas as pd"
   ]
  },
  {
   "cell_type": "code",
   "execution_count": 3,
   "id": "4131d67e",
   "metadata": {},
   "outputs": [],
   "source": [
    "# Path to your image\n",
    "image_path = \"walmart-receipt.png\""
   ]
  },
  {
   "cell_type": "markdown",
   "id": "b16861cf",
   "metadata": {},
   "source": [
    "### Load and view image"
   ]
  },
  {
   "cell_type": "markdown",
   "id": "f20626cc",
   "metadata": {},
   "source": [
    "1. Using OpenCV"
   ]
  },
  {
   "cell_type": "code",
   "execution_count": 4,
   "id": "140422cc",
   "metadata": {},
   "outputs": [],
   "source": [
    "# Load image with OpenCV\n",
    "img = cv2.imread(image_path)\n",
    "\n",
    "cv2.imshow(\"Receipt\", img)     # show image in a window\n",
    "cv2.waitKey(0)                 # wait until a key is pressed\n",
    "cv2.destroyAllWindows()  "
   ]
  },
  {
   "cell_type": "markdown",
   "id": "bb1d4bc2",
   "metadata": {},
   "source": [
    "2. Using PIL"
   ]
  },
  {
   "cell_type": "code",
   "execution_count": 5,
   "id": "e6b6c287",
   "metadata": {},
   "outputs": [],
   "source": [
    "from PIL import Image\n",
    "\n",
    "img1 = Image.open(image_path)\n",
    "img1.show()   # opens in default viewer"
   ]
  },
  {
   "cell_type": "code",
   "execution_count": 6,
   "id": "0f711c2e",
   "metadata": {},
   "outputs": [],
   "source": [
    "# Convert to grayscale\n",
    "gray = cv2.cvtColor(img, cv2.COLOR_BGR2GRAY)\n",
    "\n",
    "cv2.imshow(\"Receipt\", gray)     # show image in a window\n",
    "cv2.waitKey(0)                 # wait until a key is pressed\n",
    "cv2.destroyAllWindows() "
   ]
  },
  {
   "cell_type": "code",
   "execution_count": 7,
   "id": "eab49738",
   "metadata": {},
   "outputs": [],
   "source": [
    "# Apply thresholding to make text stand out\n",
    "thresh = cv2.adaptiveThreshold(\n",
    "    gray, 255,\n",
    "    cv2.ADAPTIVE_THRESH_GAUSSIAN_C,\n",
    "    cv2.THRESH_BINARY,\n",
    "    31, 2\n",
    ")\n",
    "\n",
    "cv2.imshow(\"Receipt\", thresh)     # show image in a window\n",
    "cv2.waitKey(0)                 # wait until a key is pressed\n",
    "cv2.destroyAllWindows() "
   ]
  },
  {
   "cell_type": "code",
   "execution_count": 8,
   "id": "2ba6cc2d",
   "metadata": {},
   "outputs": [],
   "source": [
    "# Optional: Noise removal (morphology)\n",
    "kernel = np.ones((1, 1), np.uint8)\n",
    "processed = cv2.morphologyEx(thresh, cv2.MORPH_OPEN, kernel)\n",
    "\n",
    "cv2.imshow(\"Receipt\", processed)     # show image in a window\n",
    "cv2.waitKey(0)                 # wait until a key is pressed\n",
    "cv2.destroyAllWindows() "
   ]
  },
  {
   "cell_type": "code",
   "execution_count": 9,
   "id": "9b508ada",
   "metadata": {},
   "outputs": [
    {
     "data": {
      "text/plain": [
       "True"
      ]
     },
     "execution_count": 9,
     "metadata": {},
     "output_type": "execute_result"
    }
   ],
   "source": [
    "# Save preprocessed image temporarily (if you want to inspect)\n",
    "cv2.imwrite(\"processed_receipt.png\", processed)"
   ]
  },
  {
   "cell_type": "code",
   "execution_count": 10,
   "id": "a9d45556",
   "metadata": {},
   "outputs": [],
   "source": [
    "# Convert to PIL for pytesseract\n",
    "pil_img = Image.fromarray(processed)"
   ]
  },
  {
   "cell_type": "code",
   "execution_count": 26,
   "id": "1e10b678",
   "metadata": {},
   "outputs": [],
   "source": [
    "# OCR extraction\n",
    "# custom_config = r'--oem 3 --psm 6'  # OEM 3 = default LSTM, PSM 6 = assume block of text\n",
    "ocr_text = pytesseract.image_to_string(pil_img)"
   ]
  },
  {
   "cell_type": "code",
   "execution_count": null,
   "id": "8c597e50",
   "metadata": {},
   "outputs": [],
   "source": []
  },
  {
   "cell_type": "code",
   "execution_count": 27,
   "id": "a3a6e309",
   "metadata": {},
   "outputs": [
    {
     "name": "stdout",
     "output_type": "stream",
     "text": [
      "OCR Output\n",
      "============\n",
      " Walmart >,<.\n",
      "\n",
      "Save money. Live better.\n",
      "\n",
      "(330 ) 339 - 3991\n",
      "MANAGER DIANA EARNEST\n",
      "231 BLUEBELL DR SW\n",
      "NEW PHILADELPHIA OH 44663\n",
      "ST# 02115 OP# 009044 TE# 44 TRH 01301\n",
      "\n",
      "PET TOY 004747571658 1.97%\n",
      "FLOPPY PUPPY 004747514846 1.97%\n",
      "SSSUPREME S 070060332153 4.97%\n",
      "2.5 SQUEAK 084699803238 5.92 X\n",
      "MUNCHY DMBEL 068113108796 3.77%\n",
      "DOG TREAT 007119013654 2.92 %\n",
      "PED PCH 1 002310011802 0.50 X\n",
      "PED PCH 1 002310011802 0.50 X\n",
      "COUPON 23100 052310037000 1.00-0\n",
      "HNYMD SMORES 088491226837 F 3.98 0\n",
      "FRENCH DRSNG 004132100655 F 1.98 0\n",
      "3 ORANGES 001466835001 F 5.47 N\n",
      "BABY CARROTS 003338366602 I 1.48 N\n",
      "COLLARDS 000000004614KI 1.24 N\n",
      "CALZONE 005208362080 F 2.50 0\n",
      "MM RVW MNT 003399105848 19.77 X\n",
      "STKOBRLPLABL 001558679414 1.97%\n",
      "STKOBRLPLABL 001558679414 1.97%\n",
      "STKO SUNFLWR 001558679410 0.97 X\n",
      "STKO SUNFLWR 001558679410 0.97 X\n",
      "STKO SUNFLWR 001558679410 0.97 X\n",
      "STKO SUNFLWR 001558679410 0.97 X\n",
      "BLING BEADS 076594060699 0.97 X\n",
      "GREAT VALUE 007874203191 F 9.970\n",
      "LIPTON 001200011224 F 4.48%\n",
      "DRY DOG 002310011035 12.44 X\n",
      "SUBTOTAL 93.62\n",
      "TAX 1 6.750 % 4.59\n",
      "TOTAL 98.21\n",
      "VISA TEND 98.21\n",
      "US DEBIT aeee neem #eRe 9166 I 0\n",
      "APPROVAL # 572868\n",
      "REF # 720900544961\n",
      "TRANS ID - 387209239650894\n",
      "VALIDATION - 87HS\n",
      "PAYMENT SERVICE - E\n",
      "AID A0000000980840\n",
      "TC 51319CA81DC22BC7\n",
      "TERMINAL # SC010764\n",
      "*Signature verified\n",
      "07/28/17 02:39:48\n",
      "CHANGE DUE 0.00\n",
      "\n",
      "# ITEMS SOLD 25\n",
      "TCH 0443 0223 1059 8001 5140\n",
      "\n",
      "Low Prices You Can Trust. Every Day.\n",
      "YX\n",
      "07/28/17 02:39:48\n",
      "***CUSTOMER COPY***\n",
      "\n",
      "\n"
     ]
    }
   ],
   "source": [
    "print(\"OCR Output\\n============\\n\",ocr_text)"
   ]
  },
  {
   "cell_type": "code",
   "execution_count": 37,
   "id": "f3ef5514",
   "metadata": {},
   "outputs": [
    {
     "data": {
      "text/plain": [
       "['Walmart >,<.',\n",
       " '',\n",
       " 'Save money. Live better.',\n",
       " '',\n",
       " '(330 ) 339 - 3991',\n",
       " 'MANAGER DIANA EARNEST',\n",
       " '231 BLUEBELL DR SW',\n",
       " 'NEW PHILADELPHIA OH 44663',\n",
       " 'ST# 02115 OP# 009044 TE# 44 TRH 01301',\n",
       " '',\n",
       " 'PET TOY 004747571658 1.97%',\n",
       " 'FLOPPY PUPPY 004747514846 1.97%',\n",
       " 'SSSUPREME S 070060332153 4.97%',\n",
       " '2.5 SQUEAK 084699803238 5.92 X',\n",
       " 'MUNCHY DMBEL 068113108796 3.77%',\n",
       " 'DOG TREAT 007119013654 2.92 %',\n",
       " 'PED PCH 1 002310011802 0.50 X',\n",
       " 'PED PCH 1 002310011802 0.50 X',\n",
       " 'COUPON 23100 052310037000 1.00-0',\n",
       " 'HNYMD SMORES 088491226837 F 3.98 0',\n",
       " 'FRENCH DRSNG 004132100655 F 1.98 0',\n",
       " '3 ORANGES 001466835001 F 5.47 N',\n",
       " 'BABY CARROTS 003338366602 I 1.48 N',\n",
       " 'COLLARDS 000000004614KI 1.24 N',\n",
       " 'CALZONE 005208362080 F 2.50 0',\n",
       " 'MM RVW MNT 003399105848 19.77 X',\n",
       " 'STKOBRLPLABL 001558679414 1.97%',\n",
       " 'STKOBRLPLABL 001558679414 1.97%',\n",
       " 'STKO SUNFLWR 001558679410 0.97 X',\n",
       " 'STKO SUNFLWR 001558679410 0.97 X',\n",
       " 'STKO SUNFLWR 001558679410 0.97 X',\n",
       " 'STKO SUNFLWR 001558679410 0.97 X',\n",
       " 'BLING BEADS 076594060699 0.97 X',\n",
       " 'GREAT VALUE 007874203191 F 9.970',\n",
       " 'LIPTON 001200011224 F 4.48%',\n",
       " 'DRY DOG 002310011035 12.44 X',\n",
       " 'SUBTOTAL 93.62',\n",
       " 'TAX 1 6.750 % 4.59',\n",
       " 'TOTAL 98.21',\n",
       " 'VISA TEND 98.21',\n",
       " 'US DEBIT aeee neem #eRe 9166 I 0',\n",
       " 'APPROVAL # 572868',\n",
       " 'REF # 720900544961',\n",
       " 'TRANS ID - 387209239650894',\n",
       " 'VALIDATION - 87HS',\n",
       " 'PAYMENT SERVICE - E',\n",
       " 'AID A0000000980840',\n",
       " 'TC 51319CA81DC22BC7',\n",
       " 'TERMINAL # SC010764',\n",
       " '*Signature verified',\n",
       " '07/28/17 02:39:48',\n",
       " 'CHANGE DUE 0.00',\n",
       " '',\n",
       " '# ITEMS SOLD 25',\n",
       " 'TCH 0443 0223 1059 8001 5140',\n",
       " '',\n",
       " 'Low Prices You Can Trust. Every Day.',\n",
       " 'YX',\n",
       " '07/28/17 02:39:48',\n",
       " '***CUSTOMER COPY***']"
      ]
     },
     "execution_count": 37,
     "metadata": {},
     "output_type": "execute_result"
    }
   ],
   "source": [
    "# Split into lines\n",
    "lines = [line.strip() for line in ocr_text.strip().split(\"\\n\")]\n",
    "lines\n"
   ]
  },
  {
   "cell_type": "code",
   "execution_count": 35,
   "id": "cdb734f9",
   "metadata": {},
   "outputs": [
    {
     "name": "stdout",
     "output_type": "stream",
     "text": [
      "['Walmart', '>,<.']\n",
      "[]\n",
      "['Save', 'money.', 'Live', 'better.']\n",
      "[]\n",
      "['(330', ')', '339', '-', '3991']\n",
      "['MANAGER', 'DIANA', 'EARNEST']\n",
      "['231', 'BLUEBELL', 'DR', 'SW']\n",
      "['NEW', 'PHILADELPHIA', 'OH', '44663']\n",
      "['ST#', '02115', 'OP#', '009044', 'TE#', '44', 'TRH', '01301']\n",
      "[]\n",
      "['PET', 'TOY', '004747571658', '1.97%']\n",
      "['FLOPPY', 'PUPPY', '004747514846', '1.97%']\n",
      "['SSSUPREME', 'S', '070060332153', '4.97%']\n",
      "['2.5', 'SQUEAK', '084699803238', '5.92', 'X']\n",
      "['MUNCHY', 'DMBEL', '068113108796', '3.77%']\n",
      "['DOG', 'TREAT', '007119013654', '2.92', '%']\n",
      "['PED', 'PCH', '1', '002310011802', '0.50', 'X']\n",
      "['PED', 'PCH', '1', '002310011802', '0.50', 'X']\n",
      "['COUPON', '23100', '052310037000', '1.00-0']\n",
      "['HNYMD', 'SMORES', '088491226837', 'F', '3.98', '0']\n",
      "['FRENCH', 'DRSNG', '004132100655', 'F', '1.98', '0']\n",
      "['3', 'ORANGES', '001466835001', 'F', '5.47', 'N']\n",
      "['BABY', 'CARROTS', '003338366602', 'I', '1.48', 'N']\n",
      "['COLLARDS', '000000004614KI', '1.24', 'N']\n",
      "['CALZONE', '005208362080', 'F', '2.50', '0']\n",
      "['MM', 'RVW', 'MNT', '003399105848', '19.77', 'X']\n",
      "['STKOBRLPLABL', '001558679414', '1.97%']\n",
      "['STKOBRLPLABL', '001558679414', '1.97%']\n",
      "['STKO', 'SUNFLWR', '001558679410', '0.97', 'X']\n",
      "['STKO', 'SUNFLWR', '001558679410', '0.97', 'X']\n",
      "['STKO', 'SUNFLWR', '001558679410', '0.97', 'X']\n",
      "['STKO', 'SUNFLWR', '001558679410', '0.97', 'X']\n",
      "['BLING', 'BEADS', '076594060699', '0.97', 'X']\n",
      "['GREAT', 'VALUE', '007874203191', 'F', '9.970']\n",
      "['LIPTON', '001200011224', 'F', '4.48%']\n",
      "['DRY', 'DOG', '002310011035', '12.44', 'X']\n",
      "['SUBTOTAL', '93.62']\n",
      "['TAX', '1', '6.750', '%', '4.59']\n",
      "['TOTAL', '98.21']\n",
      "['VISA', 'TEND', '98.21']\n",
      "['US', 'DEBIT', 'aeee', 'neem', '#eRe', '9166', 'I', '0']\n",
      "['APPROVAL', '#', '572868']\n",
      "['REF', '#', '720900544961']\n",
      "['TRANS', 'ID', '-', '387209239650894']\n",
      "['VALIDATION', '-', '87HS']\n",
      "['PAYMENT', 'SERVICE', '-', 'E']\n",
      "['AID', 'A0000000980840']\n",
      "['TC', '51319CA81DC22BC7']\n",
      "['TERMINAL', '#', 'SC010764']\n",
      "['*Signature', 'verified']\n",
      "['07/28/17', '02:39:48']\n",
      "['CHANGE', 'DUE', '0.00']\n",
      "[]\n",
      "['#', 'ITEMS', 'SOLD', '25']\n",
      "['TCH', '0443', '0223', '1059', '8001', '5140']\n",
      "[]\n",
      "['Low', 'Prices', 'You', 'Can', 'Trust.', 'Every', 'Day.']\n",
      "['YX']\n",
      "['07/28/17', '02:39:48']\n",
      "['***CUSTOMER', 'COPY***']\n"
     ]
    }
   ],
   "source": [
    "# Split into lines\n",
    "lines = [line.strip() for line in ocr_text.strip().split(\"\\n\")]\n",
    "\n",
    "# Parse each line into structured data\n",
    "data = []\n",
    "for line in lines:\n",
    "    parts = line.split()\n",
    "    print(parts)"
   ]
  },
  {
   "cell_type": "code",
   "execution_count": null,
   "id": "f8ed186e",
   "metadata": {},
   "outputs": [
    {
     "data": {
      "text/plain": [
       "['al,',\n",
       " 'alMaft ¢,s.',\n",
       " 'Save money. Live better.',\n",
       " '(330 ) 339 - 3991',\n",
       " 'MANAGER DIANA EARNEST',\n",
       " '231 BLUEBELL DR SW',\n",
       " 'NEW PHILADELPHIA OH 44663',\n",
       " 'ST# 02115 OP# 009044 TE# 44 TRH 01301',\n",
       " 'PET TOY 004747571658 1.97%',\n",
       " 'FLOPPY PUPPY 004747514846 1.97%',\n",
       " 'SSSUPREME S 070060332153 4.97%',\n",
       " '2.5 SQUEAK 084699803238 5.92 X',\n",
       " 'MUNCHY DMBEL 068113108796 3.77%',\n",
       " 'DOG TREAT 007119013654 2.92 %',\n",
       " 'PED PCH 1 002310011802 0.50 X',\n",
       " 'PED PCH 1 002310011802 0.50 X',\n",
       " 'COUPON 23100 052310037000 1.00-0',\n",
       " 'HNYMD SMORES 088491226837 F 3.98 0',\n",
       " 'FRENCH DRSNG 004132100655 F 1.98 0',\n",
       " '3 ORANGES 001466835001 F 5.47 N',\n",
       " 'BABY CARROTS 003338366602 I 1.48 N',\n",
       " 'COLLARDS 000000004614KI 1.24 N',\n",
       " 'CALZONE 005208362080 F 2.50 0',\n",
       " 'MM RVW MNT 003399105848 19.77 X',\n",
       " 'STKOBRLPLABL 001558679414 1.97%',\n",
       " 'STKOBRLPLABL 001558679414 1.97%',\n",
       " 'STKO SUNFLWR 001558679410 0.97 X',\n",
       " 'STKO SUNFLWR 001558679410 0.97 X',\n",
       " 'STKO SUNFLWR 001558679410 0.97 X',\n",
       " 'STKO SUNFLWR 001558679410 0.97 X',\n",
       " 'BLING BEADS 076594060699 0.97 X',\n",
       " 'GREAT VALUE 007874203191 F 9.970',\n",
       " 'LIPTON 001200011224 F 4.48%',\n",
       " 'DRY DOG 002310011035 12.44 X',\n",
       " 'SUBTOTAL 93.62',\n",
       " 'TAX 1 6.750 % 4.59',\n",
       " 'TOTAL 98.21',\n",
       " 'VISA TEND 98.21',\n",
       " 'US DEBIT aeee neem #eRe 9166 I 0',\n",
       " 'APPROVAL # 572868',\n",
       " 'REF # 720900544961',\n",
       " 'TRANS ID - 387209239650894',\n",
       " 'VALIDATION - 87HS',\n",
       " 'PAYMENT SERVICE - E',\n",
       " 'AID A0000000980840',\n",
       " 'TC 51319CA81DC22BC7',\n",
       " 'TERMINAL # SC010764',\n",
       " '*Signature verified',\n",
       " '07/28/17 02:39:48',\n",
       " 'CHANGE DUE 0.00',\n",
       " '# ITEMS SOLD 25',\n",
       " 'TC# 0443 0223 1059 8001 5140',\n",
       " 'Low Prices You Can Trust. Every Day.',\n",
       " 'Fa',\n",
       " '07/28/17 02139148',\n",
       " '***CUSTOMER COPY***']"
      ]
     },
     "execution_count": 19,
     "metadata": {},
     "output_type": "execute_result"
    }
   ],
   "source": [
    "# Split into lines\n",
    "lines = [line.strip() for line in ocr_text.strip().split(\"\\n\")]\n",
    "\n",
    "# Parse each line into structured data\n",
    "data = []\n",
    "for line in lines:\n",
    "    parts = line.split()\n",
    "    \n",
    "    # Last part should be price or price+code (sometimes with %, X, F, etc.)\n",
    "    price = parts[-2] if parts[-1].isalpha() or \"%\" in parts[-1] else parts[-1]\n",
    "    code = parts[-2] if not price.replace('.', '', 1).isdigit() else None\n",
    "    \n",
    "    # Extract description and product code\n",
    "    description = \" \".join(parts[:-2]) if code else \" \".join(parts[:-1])\n",
    "    product_code = parts[-2] if code else parts[-2]\n",
    "    \n",
    "    # Clean price\n",
    "    try:\n",
    "        price_val = float(price.replace(\"%\", \"\").replace(\"X\", \"\").replace(\"N\", \"\").replace(\"O\", \"\").replace(\"-\", \"\"))\n",
    "    except:\n",
    "        price_val = None\n",
    "    \n",
    "    data.append([description, product_code, price_val])\n",
    "\n",
    "# Create dataframe\n",
    "df = pd.DataFrame(data, columns=[\"Description\", \"Product Code\", \"Price\"])\n",
    "df"
   ]
  },
  {
   "cell_type": "code",
   "execution_count": null,
   "id": "f012eeb3",
   "metadata": {},
   "outputs": [],
   "source": [
    "\n",
    "# Save as CSV\n",
    "csv_path = \"/mnt/data/receipt_items.csv\"\n",
    "df.to_csv(csv_path, index=False)\n",
    "\n",
    "import caas_jupyter_tools\n",
    "caas_jupyter_tools.display_dataframe_to_user(\"Receipt Data\", df)\n",
    "csv_path"
   ]
  }
 ],
 "metadata": {
  "kernelspec": {
   "display_name": ".venv",
   "language": "python",
   "name": "python3"
  },
  "language_info": {
   "codemirror_mode": {
    "name": "ipython",
    "version": 3
   },
   "file_extension": ".py",
   "mimetype": "text/x-python",
   "name": "python",
   "nbconvert_exporter": "python",
   "pygments_lexer": "ipython3",
   "version": "3.12.4"
  }
 },
 "nbformat": 4,
 "nbformat_minor": 5
}
