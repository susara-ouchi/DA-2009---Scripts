{
 "cells": [
  {
   "cell_type": "code",
   "execution_count": 3,
   "id": "3f330dd9",
   "metadata": {},
   "outputs": [
    {
     "name": "stdout",
     "output_type": "stream",
     "text": [
      "Collecting bs4\n",
      "  Using cached bs4-0.0.2-py2.py3-none-any.whl.metadata (411 bytes)\n",
      "Collecting beautifulsoup4 (from bs4)\n",
      "  Using cached beautifulsoup4-4.13.4-py3-none-any.whl.metadata (3.8 kB)\n",
      "Collecting soupsieve>1.2 (from beautifulsoup4->bs4)\n",
      "  Using cached soupsieve-2.7-py3-none-any.whl.metadata (4.6 kB)\n",
      "Collecting typing-extensions>=4.0.0 (from beautifulsoup4->bs4)\n",
      "  Using cached typing_extensions-4.14.1-py3-none-any.whl.metadata (3.0 kB)\n",
      "Using cached bs4-0.0.2-py2.py3-none-any.whl (1.2 kB)\n",
      "Using cached beautifulsoup4-4.13.4-py3-none-any.whl (187 kB)\n",
      "Using cached soupsieve-2.7-py3-none-any.whl (36 kB)\n",
      "Using cached typing_extensions-4.14.1-py3-none-any.whl (43 kB)\n",
      "Installing collected packages: typing-extensions, soupsieve, beautifulsoup4, bs4\n",
      "\n",
      "   ---------------------------------------- 0/4 [typing-extensions]\n",
      "   ---------- ----------------------------- 1/4 [soupsieve]\n",
      "   ---------- ----------------------------- 1/4 [soupsieve]\n",
      "   -------------------- ------------------- 2/4 [beautifulsoup4]\n",
      "   -------------------- ------------------- 2/4 [beautifulsoup4]\n",
      "   -------------------- ------------------- 2/4 [beautifulsoup4]\n",
      "   -------------------- ------------------- 2/4 [beautifulsoup4]\n",
      "   -------------------- ------------------- 2/4 [beautifulsoup4]\n",
      "   -------------------- ------------------- 2/4 [beautifulsoup4]\n",
      "   -------------------- ------------------- 2/4 [beautifulsoup4]\n",
      "   -------------------- ------------------- 2/4 [beautifulsoup4]\n",
      "   -------------------- ------------------- 2/4 [beautifulsoup4]\n",
      "   -------------------- ------------------- 2/4 [beautifulsoup4]\n",
      "   -------------------- ------------------- 2/4 [beautifulsoup4]\n",
      "   -------------------- ------------------- 2/4 [beautifulsoup4]\n",
      "   ------------------------------ --------- 3/4 [bs4]\n",
      "   ---------------------------------------- 4/4 [bs4]\n",
      "\n",
      "Successfully installed beautifulsoup4-4.13.4 bs4-0.0.2 soupsieve-2.7 typing-extensions-4.14.1\n"
     ]
    }
   ],
   "source": [
    "!pip install bs4"
   ]
  },
  {
   "cell_type": "markdown",
   "id": "4fb718eb",
   "metadata": {},
   "source": [
    "### Extracting from a local HTML file"
   ]
  },
  {
   "cell_type": "code",
   "execution_count": 5,
   "id": "c4448cf4",
   "metadata": {},
   "outputs": [
    {
     "name": "stdout",
     "output_type": "stream",
     "text": [
      "Title: My Simple Page\n",
      "About Me: I enjoy learning web development and Python.\n",
      "Hobbies: ['Reading', 'Coding', 'Gaming']\n"
     ]
    }
   ],
   "source": [
    "from bs4 import BeautifulSoup\n",
    "with open(\"simple_page.html\", \"r\", encoding=\"utf-8\") as f:\n",
    "    html = f.read()\n",
    "    soup = BeautifulSoup(html, \"html.parser\")\n",
    "    print(\"Title:\", soup.title.text)\n",
    "    about_div = soup.find(\"div\", id=\"about\")\n",
    "    print(\"About Me:\", about_div.p.text)\n",
    "    hobby_items = soup.select(\"div.section ul li\")\n",
    "    hobbies = [item.text for item in hobby_items]\n",
    "    print(\"Hobbies:\", hobbies)"
   ]
  },
  {
   "cell_type": "markdown",
   "id": "8e5ae191",
   "metadata": {},
   "source": [
    "### Extracting from an external website"
   ]
  },
  {
   "cell_type": "code",
   "execution_count": 6,
   "id": "e29d603b",
   "metadata": {},
   "outputs": [
    {
     "name": "stdout",
     "output_type": "stream",
     "text": [
      "Upcoming Python Events:\n",
      "2025-08-08 - Buea - Creating Python Communities and outreach (https://www.python.org/events/python-user-group/2081/)\n",
      "2025-08-11 - DjangoCon Africa 2025 (https://www.python.org/events/python-events/2011/)\n",
      "2025-08-13 - PyCon Somalia 2025 (https://www.python.org/events/python-events/2077/)\n",
      "2025-08-15 - PyCon Korea 2025 (https://www.python.org/events/python-events/1973/)\n",
      "2025-08-18 - EuroSciPy 2025 (https://www.python.org/events/python-events/1971/)\n"
     ]
    }
   ],
   "source": [
    "import requests\n",
    "from bs4 import BeautifulSoup\n",
    "\n",
    "# Step 1: Send a GET request to the page\n",
    "url = \"https://www.python.org\"\n",
    "response = requests.get(url)\n",
    "\n",
    "# Step 2: Parse the HTML content\n",
    "soup = BeautifulSoup(response.text, 'lxml')\n",
    "\n",
    "# Step 3: Find the event list\n",
    "event_section = soup.find('div', {'class': 'event-widget'})\n",
    "events = event_section.find_all('li')\n",
    "\n",
    "# Step 4: Print upcoming exvents\n",
    "print(\"Upcoming Python Events:\")\n",
    "for event in events:\n",
    "    date = event.find('time').text\n",
    "    name = event.find('a').text\n",
    "    link = event.find('a')['href']\n",
    "    print(f\"{date} - {name} ({url}{link})\")\n"
   ]
  },
  {
   "cell_type": "code",
   "execution_count": null,
   "id": "cefd60d5",
   "metadata": {},
   "outputs": [],
   "source": []
  }
 ],
 "metadata": {
  "kernelspec": {
   "display_name": ".venv",
   "language": "python",
   "name": "python3"
  },
  "language_info": {
   "codemirror_mode": {
    "name": "ipython",
    "version": 3
   },
   "file_extension": ".py",
   "mimetype": "text/x-python",
   "name": "python",
   "nbconvert_exporter": "python",
   "pygments_lexer": "ipython3",
   "version": "3.12.4"
  }
 },
 "nbformat": 4,
 "nbformat_minor": 5
}
