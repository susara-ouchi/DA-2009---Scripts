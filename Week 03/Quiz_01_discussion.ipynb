{
 "cells": [
  {
   "cell_type": "markdown",
   "id": "5dcd3553",
   "metadata": {},
   "source": [
    "Q 01"
   ]
  },
  {
   "cell_type": "code",
   "execution_count": 6,
   "id": "a132cdd0",
   "metadata": {},
   "outputs": [
    {
     "name": "stdout",
     "output_type": "stream",
     "text": [
      "{'Bolt': 'Bolt', 'time': 9.69}\n"
     ]
    }
   ],
   "source": [
    "name = \"Bolt\"\n",
    "time = \"time\"\n",
    "\n",
    "run_time = {name: \"Bolt\", time:9.69}\n",
    "print(run_time)\n",
    "\n",
    "# Output inaccurate - dictionary keys are different"
   ]
  },
  {
   "cell_type": "markdown",
   "id": "9801c1cb",
   "metadata": {},
   "source": [
    "Q 02"
   ]
  },
  {
   "cell_type": "markdown",
   "id": "781a468a",
   "metadata": {},
   "source": [
    "To extract a table from a website, first fetch the page using (requests) , then use (pandas.read_html()) method to convert the table into a DataFrame."
   ]
  },
  {
   "cell_type": "markdown",
   "id": "acf49a34",
   "metadata": {},
   "source": [
    "Q 03"
   ]
  },
  {
   "cell_type": "markdown",
   "id": "116007d0",
   "metadata": {},
   "source": [
    "What is unstructured data? -> Data like text, images, or videos"
   ]
  },
  {
   "cell_type": "markdown",
   "id": "51921536",
   "metadata": {},
   "source": [
    "Q 04"
   ]
  },
  {
   "cell_type": "markdown",
   "id": "6af62057",
   "metadata": {},
   "source": [
    "Instead of scraping the webpage, it is often more efficient to identify and call the site’s (API) endpoints that return (JSON) structured data."
   ]
  },
  {
   "cell_type": "markdown",
   "id": "177d6e5c",
   "metadata": {},
   "source": [
    "Q 05"
   ]
  },
  {
   "cell_type": "markdown",
   "id": "9505869e",
   "metadata": {},
   "source": [
    "GitHub is only used for storing Python code and cannot be used to collaborate on other file types like documents or datasets. - FALSE"
   ]
  },
  {
   "cell_type": "markdown",
   "id": "47acedb7",
   "metadata": {},
   "source": [
    "Q 06"
   ]
  },
  {
   "cell_type": "markdown",
   "id": "8de90889",
   "metadata": {},
   "source": [
    "Which of the following best describes structured data? -> Data organized into rows and columns, like in a spreadsheet"
   ]
  },
  {
   "cell_type": "markdown",
   "id": "5b38ace0",
   "metadata": {},
   "source": [
    "Q 07"
   ]
  },
  {
   "cell_type": "markdown",
   "id": "1e81d648",
   "metadata": {},
   "source": [
    "Web scraping is commonly used in (stock-price) monitoring and (data) extraction from websites"
   ]
  },
  {
   "cell_type": "markdown",
   "id": "0887739e",
   "metadata": {},
   "source": [
    "Q 08"
   ]
  },
  {
   "cell_type": "markdown",
   "id": "03ea5876",
   "metadata": {},
   "source": [
    "Which of the following tools can Excel use to get data from a website? -> Data > Import from Web"
   ]
  },
  {
   "cell_type": "markdown",
   "id": "1fdbf346",
   "metadata": {},
   "source": [
    "Q 09"
   ]
  },
  {
   "cell_type": "markdown",
   "id": "d2039948",
   "metadata": {},
   "source": [
    "A user sends a properly formatted request, but the server understands it and still refuses to authorize access. Write the correct HTTP status code (only the 3 digits) that should be returned. -> 403\n"
   ]
  },
  {
   "cell_type": "markdown",
   "id": "c6cb148b",
   "metadata": {},
   "source": [
    "Q 10"
   ]
  },
  {
   "cell_type": "markdown",
   "id": "2c647bec",
   "metadata": {},
   "source": [
    "What does HTTP status code 404 mean? -> The requested resource could not be found"
   ]
  },
  {
   "cell_type": "markdown",
   "id": "27c72c61",
   "metadata": {},
   "source": [
    "Q 11"
   ]
  },
  {
   "cell_type": "markdown",
   "id": "1843286a",
   "metadata": {},
   "source": [
    "Match the Python library with its correct purpose:\n",
    "\n",
    "Pandas -> dataframes\n",
    "Beautifulsoup -> HTML elements\n",
    "Requests  -> HTTP requests"
   ]
  },
  {
   "cell_type": "markdown",
   "id": "c1739ac2",
   "metadata": {},
   "source": [
    "Q 12"
   ]
  },
  {
   "cell_type": "markdown",
   "id": "dc0a9f60",
   "metadata": {},
   "source": [
    "You can scrape any public website as long as you do not store the data permanently. -> FALSE"
   ]
  },
  {
   "cell_type": "markdown",
   "id": "b3c7e6f7",
   "metadata": {},
   "source": [
    "Q 13"
   ]
  },
  {
   "cell_type": "markdown",
   "id": "3e6ad27d",
   "metadata": {},
   "source": [
    "Why is it important to check 'robots.txt' before scraping a website? -> To make sure you’re allowed to scrape certain parts of the site"
   ]
  },
  {
   "cell_type": "markdown",
   "id": "5acfde4d",
   "metadata": {},
   "source": [
    "Q 14"
   ]
  },
  {
   "cell_type": "markdown",
   "id": "024b0f38",
   "metadata": {},
   "source": [
    "What file (along with it extension) is typically used to provide an overview of a GitHub project? -> README.md"
   ]
  },
  {
   "cell_type": "markdown",
   "id": "b09da294",
   "metadata": {},
   "source": [
    "Q 15"
   ]
  },
  {
   "cell_type": "code",
   "execution_count": 8,
   "id": "f74d8570",
   "metadata": {},
   "outputs": [
    {
     "name": "stdout",
     "output_type": "stream",
     "text": [
      "200\n"
     ]
    }
   ],
   "source": [
    "import requests\n",
    "response = requests.get('https://example.com/')\n",
    "print(response.status_code)"
   ]
  },
  {
   "cell_type": "markdown",
   "id": "35bd55ad",
   "metadata": {},
   "source": [
    "Sends a GET request and prints the HTTP response status code"
   ]
  },
  {
   "cell_type": "markdown",
   "id": "4923ba06",
   "metadata": {},
   "source": [
    "Q 16"
   ]
  },
  {
   "cell_type": "markdown",
   "id": "60955688",
   "metadata": {},
   "source": [
    "You receive a 403 error while scraping a page. What is most likely the reason?"
   ]
  },
  {
   "cell_type": "markdown",
   "id": "3cc4b49b",
   "metadata": {},
   "source": [
    "Your scraper is being blocked due to lack of permission"
   ]
  },
  {
   "cell_type": "markdown",
   "id": "83022176",
   "metadata": {},
   "source": [
    "Q 17"
   ]
  },
  {
   "cell_type": "markdown",
   "id": "529a1e92",
   "metadata": {},
   "source": [
    "A GitHub repository stores the complete history of a project using the (Git) version control system."
   ]
  },
  {
   "cell_type": "markdown",
   "id": "f38e5b87",
   "metadata": {},
   "source": [
    "Q 18"
   ]
  },
  {
   "cell_type": "markdown",
   "id": "171aacad",
   "metadata": {},
   "source": [
    "A webpage has multiple tables, but you only need the third table. Using pandas, how can you load the webpage tables and extract just the third one?"
   ]
  },
  {
   "cell_type": "code",
   "execution_count": 11,
   "id": "2ccc13d0",
   "metadata": {},
   "outputs": [
    {
     "data": {
      "text/html": [
       "<div>\n",
       "<style scoped>\n",
       "    .dataframe tbody tr th:only-of-type {\n",
       "        vertical-align: middle;\n",
       "    }\n",
       "\n",
       "    .dataframe tbody tr th {\n",
       "        vertical-align: top;\n",
       "    }\n",
       "\n",
       "    .dataframe thead th {\n",
       "        text-align: right;\n",
       "    }\n",
       "</style>\n",
       "<table border=\"1\" class=\"dataframe\">\n",
       "  <thead>\n",
       "    <tr style=\"text-align: right;\">\n",
       "      <th></th>\n",
       "      <th>Margin</th>\n",
       "      <th>Teams</th>\n",
       "      <th>Venue</th>\n",
       "      <th>Season</th>\n",
       "      <th>Test</th>\n",
       "    </tr>\n",
       "  </thead>\n",
       "  <tbody>\n",
       "    <tr>\n",
       "      <th>0</th>\n",
       "      <td>675 runs</td>\n",
       "      <td>England (521 &amp; 342–8 d) beat Australia (122 &amp; 66)</td>\n",
       "      <td>Brisbane Showgrounds, Brisbane, Australia</td>\n",
       "      <td>1928–29</td>\n",
       "      <td>1st</td>\n",
       "    </tr>\n",
       "    <tr>\n",
       "      <th>1</th>\n",
       "      <td>562 runs</td>\n",
       "      <td>Australia (701 &amp; 327) beat England (321 &amp; 145)</td>\n",
       "      <td>The Oval, London, England</td>\n",
       "      <td>1934</td>\n",
       "      <td>5th</td>\n",
       "    </tr>\n",
       "    <tr>\n",
       "      <th>2</th>\n",
       "      <td>546 runs</td>\n",
       "      <td>Bangladesh (382 &amp; 425-4 d) beat Afghanistan (1...</td>\n",
       "      <td>Sher-e-Bangla National Cricket Stadium, Mirpur...</td>\n",
       "      <td>2023</td>\n",
       "      <td>1st</td>\n",
       "    </tr>\n",
       "    <tr>\n",
       "      <th>3</th>\n",
       "      <td>530 runs</td>\n",
       "      <td>Australia (328 &amp; 578) beat South Africa (205 &amp;...</td>\n",
       "      <td>Melbourne Cricket Ground, Melbourne, Australia</td>\n",
       "      <td>1910–11</td>\n",
       "      <td>4th</td>\n",
       "    </tr>\n",
       "    <tr>\n",
       "      <th>4</th>\n",
       "      <td>492 runs</td>\n",
       "      <td>South Africa (488 &amp; 344–6 d) beat Australia (2...</td>\n",
       "      <td>Wanderers Stadium, Johannesburg, South Africa</td>\n",
       "      <td>2018</td>\n",
       "      <td>4th</td>\n",
       "    </tr>\n",
       "    <tr>\n",
       "      <th>5</th>\n",
       "      <td>Last updated: 3 April 2018[24]</td>\n",
       "      <td>Last updated: 3 April 2018[24]</td>\n",
       "      <td>Last updated: 3 April 2018[24]</td>\n",
       "      <td>Last updated: 3 April 2018[24]</td>\n",
       "      <td>Last updated: 3 April 2018[24]</td>\n",
       "    </tr>\n",
       "  </tbody>\n",
       "</table>\n",
       "</div>"
      ],
      "text/plain": [
       "                           Margin  \\\n",
       "0                        675 runs   \n",
       "1                        562 runs   \n",
       "2                        546 runs   \n",
       "3                        530 runs   \n",
       "4                        492 runs   \n",
       "5  Last updated: 3 April 2018[24]   \n",
       "\n",
       "                                               Teams  \\\n",
       "0  England (521 & 342–8 d) beat Australia (122 & 66)   \n",
       "1     Australia (701 & 327) beat England (321 & 145)   \n",
       "2  Bangladesh (382 & 425-4 d) beat Afghanistan (1...   \n",
       "3  Australia (328 & 578) beat South Africa (205 &...   \n",
       "4  South Africa (488 & 344–6 d) beat Australia (2...   \n",
       "5                     Last updated: 3 April 2018[24]   \n",
       "\n",
       "                                               Venue  \\\n",
       "0          Brisbane Showgrounds, Brisbane, Australia   \n",
       "1                          The Oval, London, England   \n",
       "2  Sher-e-Bangla National Cricket Stadium, Mirpur...   \n",
       "3     Melbourne Cricket Ground, Melbourne, Australia   \n",
       "4      Wanderers Stadium, Johannesburg, South Africa   \n",
       "5                     Last updated: 3 April 2018[24]   \n",
       "\n",
       "                           Season                            Test  \n",
       "0                         1928–29                             1st  \n",
       "1                            1934                             5th  \n",
       "2                            2023                             1st  \n",
       "3                         1910–11                             4th  \n",
       "4                            2018                             4th  \n",
       "5  Last updated: 3 April 2018[24]  Last updated: 3 April 2018[24]  "
      ]
     },
     "execution_count": 11,
     "metadata": {},
     "output_type": "execute_result"
    }
   ],
   "source": [
    "import pandas as pd\n",
    "\n",
    "url = \"https://en.wikipedia.org/wiki/List_of_Test_cricket_records\"\n",
    "tables =pd.read_html(url)\n",
    "tables[2]"
   ]
  },
  {
   "cell_type": "markdown",
   "id": "5f37d473",
   "metadata": {},
   "source": [
    "Q 19"
   ]
  },
  {
   "cell_type": "markdown",
   "id": "2a988769",
   "metadata": {},
   "source": [
    "If a website provides an API, it is always better to scrape its HTML for more detailed data. -> FALSE"
   ]
  },
  {
   "cell_type": "markdown",
   "id": "d1235e5d",
   "metadata": {},
   "source": [
    "Q 20"
   ]
  },
  {
   "cell_type": "markdown",
   "id": "6ac7c879",
   "metadata": {},
   "source": [
    "Match the description with the correct category of HTTP status codes: \n",
    "\n",
    "Client must take further action to complete the request - 3xx\n",
    "Request successful, and the result is returned - 2xx\n",
    "Server error while processing a valid request - 5xx\n",
    "Request received, understood, and processing continues - 1xx"
   ]
  }
 ],
 "metadata": {
  "kernelspec": {
   "display_name": ".venv",
   "language": "python",
   "name": "python3"
  },
  "language_info": {
   "codemirror_mode": {
    "name": "ipython",
    "version": 3
   },
   "file_extension": ".py",
   "mimetype": "text/x-python",
   "name": "python",
   "nbconvert_exporter": "python",
   "pygments_lexer": "ipython3",
   "version": "3.12.4"
  }
 },
 "nbformat": 4,
 "nbformat_minor": 5
}
