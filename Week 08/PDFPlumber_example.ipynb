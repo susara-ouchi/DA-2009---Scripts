{
 "cells": [
  {
   "cell_type": "markdown",
   "id": "0a417a3e",
   "metadata": {},
   "source": [
    "### Extracting text"
   ]
  },
  {
   "cell_type": "code",
   "execution_count": 23,
   "id": "675496f4",
   "metadata": {},
   "outputs": [
    {
     "name": "stdout",
     "output_type": "stream",
     "text": [
      "Sample Document for PDF Placeholder Content\n",
      "This is a paragraph. It exists here to act as placeholder content.\n",
      "Random Paragraph\n",
      "Here is another random paragraph that serves as filler text.\n",
      "Bullet List Example:\n",
      "• This is the first item in a list.\n",
      "• This is the second item in the list.\n",
      "• This is the third item in the list.\n",
      "Numbered List Example:\n",
      "1. First step of the process.\n",
      "2. Second step of the process.\n",
      "3. Final step of the process.\n",
      "Sample Table\n",
      "ID Name Age Country\n",
      "01 John Doe 29 USA\n",
      "02 Jane Smith 34 Canada\n",
      "03 Alex Kim 41 South Korea\n",
      "04 Maria Silva 25 Brazil\n",
      "Another Table (with numbers):\n",
      "Year Revenue ($M) Expenses ($M) Profit ($M)\n",
      "2020 120 100 20\n",
      "2021 135 110 25\n",
      "2022 160 130 30\n",
      "Placeholder Image\n",
      "[IMAGE PLACEHOLDER ‒ imagine a rectangle here with caption below.]\n",
      "Figure 1: A sample figure representing where an image could be placed in a document.\n",
      "Sample Equations\n",
      "Inline example: The area of a circle is given by A = πr².\n"
     ]
    }
   ],
   "source": [
    "import pdfplumber\n",
    "\n",
    "with pdfplumber.open(\"PDFs/example.pdf\") as pdf:\n",
    "    #Save the text onto the variable text items\n",
    "    text_items = pdf.pages[0].extract_text()\n",
    "    #Print the text\n",
    "    print(text_items)"
   ]
  },
  {
   "cell_type": "code",
   "execution_count": 36,
   "id": "161bf502",
   "metadata": {},
   "outputs": [
    {
     "name": "stdout",
     "output_type": "stream",
     "text": [
      "Sample Document for PDF Placeholder Content\n",
      "This is a paragraph. It exists here to act as placeholder content.\n",
      "Random Paragraph\n",
      "Here is another random paragraph that serves as filler text.\n",
      "Bullet List Example:\n",
      "• This is the first item in a list.\n",
      "• This is the second item in the list.\n",
      "• This is the third item in the list.\n",
      "Numbered List Example:\n",
      "1. First step of the process.\n",
      "2. Second step of the process.\n",
      "3. Final step of the process.\n",
      "Sample Table\n",
      "ID Name Age Country\n",
      "01 John Doe 29 USA\n",
      "02 Jane Smith 34 Canada\n",
      "03 Alex Kim 41 South Korea\n",
      "04 Maria Silva 25 Brazil\n",
      "Another Table (with numbers):\n",
      "Year Revenue ($M) Expenses ($M) Profit ($M)\n",
      "2020 120 100 20\n",
      "2021 135 110 25\n",
      "2022 160 130 30\n",
      "Placeholder Image\n",
      "[IMAGE PLACEHOLDER ‒ imagine a rectangle here with caption below.]\n",
      "Figure 1: A sample figure representing where an image could be placed in a document.\n",
      "Sample Equations\n",
      "Inline example: The area of a circle is given by A = πr².\n",
      "Block example: E = mc²\n",
      "Another equation: P(X x) = ∫ f(t) dt\n",
      "References\n",
      "Author A, Author B (2020). Sample Paper Title. Journal of Placeholder Studies.\n",
      "Author C (2018). Another Placeholder Article. Example Publisher.\n",
      "Author D & Author E (2022). Important Reference. Placeholder Press.\n",
      "Conclusion\n",
      "This is a concluding paragraph. It wraps up the document and shows how the last section\n",
      "might look.\n",
      "Quote Example:\n",
      "“This is a sample quotation to demonstrate how a highlighted block of text might appear\n",
      "in the document.”\n",
      "Checklist Example:\n",
      "Task One\n",
      "Task Two\n",
      "Task Three\n",
      "Signature Block Example:\n",
      "_________________________\n",
      "Name Here\n",
      "Position / Title\n"
     ]
    }
   ],
   "source": [
    "for i in range(len(pdf.pages)):\n",
    "    text_page = pdf.pages[i].extract_text()\n",
    "    print(text_page)"
   ]
  },
  {
   "cell_type": "markdown",
   "id": "d8a08c0b",
   "metadata": {},
   "source": [
    "How enumerate works"
   ]
  },
  {
   "cell_type": "code",
   "execution_count": 29,
   "id": "eb919771",
   "metadata": {},
   "outputs": [
    {
     "name": "stdout",
     "output_type": "stream",
     "text": [
      "page_num:1 - page:<Page:1>\n",
      "page_num:2 - page:<Page:2>\n"
     ]
    }
   ],
   "source": [
    "for page_num, page in enumerate(pdf.pages,1):\n",
    "    print(f\"page_num:{page_num} - page:{page}\")"
   ]
  },
  {
   "cell_type": "code",
   "execution_count": 38,
   "id": "798e55c1",
   "metadata": {},
   "outputs": [
    {
     "name": "stdout",
     "output_type": "stream",
     "text": [
      "\n",
      "--- Page 1 ---\n",
      "\n",
      "Sample Document for PDF Placeholder Content\n",
      "This is a paragraph. It exists here to act as placeholder content.\n",
      "Random Paragraph\n",
      "Here is another random paragraph that serves as filler text.\n",
      "Bullet List Example:\n",
      "• This is the first item in a list.\n",
      "• This is the second item in the list.\n",
      "• This is the third item in the list.\n",
      "Numbered List Example:\n",
      "1. First step of the process.\n",
      "2. Second step of the process.\n",
      "3. Final step of the process.\n",
      "Sample Table\n",
      "ID Name Age Country\n",
      "01 John Doe 29 USA\n",
      "02 Jane Smith 34 Canada\n",
      "03 Alex Kim 41 South Korea\n",
      "04 Maria Silva 25 Brazil\n",
      "Another Table (with numbers):\n",
      "Year Revenue ($M) Expenses ($M) Profit ($M)\n",
      "2020 120 100 20\n",
      "2021 135 110 25\n",
      "2022 160 130 30\n",
      "Placeholder Image\n",
      "[IMAGE PLACEHOLDER ‒ imagine a rectangle here with caption below.]\n",
      "Figure 1: A sample figure representing where an image could be placed in a document.\n",
      "Sample Equations\n",
      "Inline example: The area of a circle is given by A = πr².\n",
      "\n",
      "--- Page 2 ---\n",
      "\n",
      "Block example: E = mc²\n",
      "Another equation: P(X x) = ∫ f(t) dt\n",
      "References\n",
      "Author A, Author B (2020). Sample Paper Title. Journal of Placeholder Studies.\n",
      "Author C (2018). Another Placeholder Article. Example Publisher.\n",
      "Author D & Author E (2022). Important Reference. Placeholder Press.\n",
      "Conclusion\n",
      "This is a concluding paragraph. It wraps up the document and shows how the last section\n",
      "might look.\n",
      "Quote Example:\n",
      "“This is a sample quotation to demonstrate how a highlighted block of text might appear\n",
      "in the document.”\n",
      "Checklist Example:\n",
      "Task One\n",
      "Task Two\n",
      "Task Three\n",
      "Signature Block Example:\n",
      "_________________________\n",
      "Name Here\n",
      "Position / Title\n"
     ]
    }
   ],
   "source": [
    "import pdfplumber\n",
    "\n",
    "with pdfplumber.open(\"PDFs/example.pdf\") as pdf:\n",
    "    for page_num, page in enumerate(pdf.pages, start=1):\n",
    "        text = page.extract_text()\n",
    "        print(f\"\\n--- Page {page_num} ---\\n\")\n",
    "        print(text)"
   ]
  },
  {
   "cell_type": "markdown",
   "id": "15965e7d",
   "metadata": {},
   "source": [
    "#### Extract tables"
   ]
  },
  {
   "cell_type": "code",
   "execution_count": 40,
   "id": "0dca53a1",
   "metadata": {},
   "outputs": [
    {
     "name": "stdout",
     "output_type": "stream",
     "text": [
      "There are 2 tables\n",
      "\n",
      "--- Table on Page 1 ---\n",
      "['ID', 'Name', 'Age', 'Country']\n",
      "['01', 'John Doe', '29', 'USA']\n",
      "['02', 'Jane Smith', '34', 'Canada']\n",
      "['03', 'Alex Kim', '41', 'South Korea']\n",
      "['04', 'Maria Silva', '25', 'Brazil']\n",
      "--- Table on Page 1 ---\n",
      "['Year', 'Revenue ($M)', 'Expenses ($M)', 'Profit ($M)']\n",
      "['2020', '120', '100', '20']\n",
      "['2021', '135', '110', '25']\n",
      "['2022', '160', '130', '30']\n",
      "There are 0 tables\n",
      "\n"
     ]
    }
   ],
   "source": [
    "import pdfplumber\n",
    "\n",
    "with pdfplumber.open(\"PDFs/example.pdf\") as pdf:\n",
    "    for page_num, page in enumerate(pdf.pages, start=1):\n",
    "        tables = page.extract_tables()\n",
    "        print(f\"There are {len(tables)} tables\\n\")\n",
    "        for table in tables:\n",
    "            print(f\"--- Table on Page {page_num} ---\")\n",
    "            for row in table:\n",
    "                print(row)\n"
   ]
  },
  {
   "cell_type": "markdown",
   "id": "8ee0349b",
   "metadata": {},
   "source": [
    "#### Extract images"
   ]
  },
  {
   "cell_type": "code",
   "execution_count": 42,
   "id": "3f1b45cd",
   "metadata": {},
   "outputs": [
    {
     "name": "stderr",
     "output_type": "stream",
     "text": [
      "Cannot set gray non-stroke color because /'P13' is an invalid float value\n",
      "Cannot set gray non-stroke color because /'P76' is an invalid float value\n"
     ]
    },
    {
     "name": "stdout",
     "output_type": "stream",
     "text": [
      "--- Images on Page 1 ---\n",
      "--- Images on Page 2 ---\n",
      "{'x0': 491.63941716011675, 'y0': 128.12694266140036, 'x1': 525.3338497358584, 'y1': 161.82525312256752, 'width': 33.694432575741644, 'height': 33.698310461167154, 'name': 'Image49', 'stream': <PDFStream(49): raw=886, {'Type': /'XObject', 'Subtype': /'Image', 'Width': 32, 'Height': 32, 'ColorSpace': /'DeviceRGB', 'BitsPerComponent': 8, 'Interpolate': False, 'SMask': <PDFObjRef:50>, 'Filter': /'FlateDecode', 'Length': 886}>, 'srcsize': (32, 32), 'imagemask': None, 'bits': 8, 'colorspace': [/'DeviceRGB'], 'mcid': 26, 'tag': 'P', 'object_type': 'image', 'page_number': 2, 'top': 243.17474687743248, 'bottom': 276.87305733859966, 'doctop': 648.1747468774324}\n",
      "--- Images on Page 3 ---\n",
      "{'x0': 542.01, 'y0': 103.34, 'x1': 699.63, 'y1': 260.96000000000004, 'width': 157.62, 'height': 157.62000000000003, 'name': 'Image60', 'stream': <PDFStream(60): raw=23294, {'Type': /'XObject', 'Subtype': /'Image', 'Width': 437, 'Height': 437, 'ColorSpace': /'DeviceRGB', 'BitsPerComponent': 8, 'Filter': /'DCTDecode', 'Interpolate': True, 'SMask': <PDFObjRef:61>, 'Length': 23294}>, 'srcsize': (437, 437), 'imagemask': None, 'bits': 8, 'colorspace': [/'DeviceRGB'], 'mcid': 14, 'tag': 'P', 'object_type': 'image', 'page_number': 3, 'top': 144.03999999999996, 'bottom': 301.65999999999997, 'doctop': 954.04}\n",
      "--- Images on Page 4 ---\n",
      "{'x0': 514.96, 'y0': 151.529984741, 'x1': 647.98, 'y1': 284.55, 'width': 133.01999999999998, 'height': 133.02001525900002, 'name': 'Image64', 'stream': <PDFStream(64): raw=7095, {'Type': /'XObject', 'Subtype': /'Image', 'Width': 369, 'Height': 369, 'ColorSpace': /'DeviceRGB', 'BitsPerComponent': 8, 'Interpolate': False, 'Filter': /'FlateDecode', 'Length': 7095}>, 'srcsize': (369, 369), 'imagemask': None, 'bits': 8, 'colorspace': [/'DeviceRGB'], 'mcid': 3, 'tag': 'P', 'object_type': 'image', 'page_number': 4, 'top': 120.44999999999999, 'bottom': 253.470015259, 'doctop': 1335.45}\n",
      "--- Images on Page 5 ---\n",
      "{'x0': 461.58, 'y0': 41.464, 'x1': 649.0799999999999, 'y1': 228.964, 'width': 187.49999999999994, 'height': 187.5, 'name': 'Image79', 'stream': <PDFStream(79): raw=26444, {'Type': /'XObject', 'Subtype': /'Image', 'Width': 520, 'Height': 520, 'ColorSpace': /'DeviceRGB', 'BitsPerComponent': 8, 'Filter': /'DCTDecode', 'Interpolate': True, 'SMask': <PDFObjRef:80>, 'Length': 26444}>, 'srcsize': (520, 520), 'imagemask': None, 'bits': 8, 'colorspace': [/'DeviceRGB'], 'mcid': 4, 'tag': 'P', 'object_type': 'image', 'page_number': 5, 'top': 176.036, 'bottom': 363.536, 'doctop': 1796.036}\n",
      "--- Images on Page 6 ---\n",
      "{'x0': 518.2, 'y0': 29.625, 'x1': 677.6700000000001, 'y1': 189.095, 'width': 159.47000000000003, 'height': 159.47, 'name': 'Image85', 'stream': <PDFStream(85): raw=11613, {'Type': /'XObject', 'Subtype': /'Image', 'Width': 314, 'Height': 314, 'ColorSpace': /'DeviceRGB', 'BitsPerComponent': 8, 'Filter': /'DCTDecode', 'Interpolate': True, 'SMask': <PDFObjRef:86>, 'Length': 11613}>, 'srcsize': (314, 314), 'imagemask': None, 'bits': 8, 'colorspace': [/'DeviceRGB'], 'mcid': 10, 'tag': 'P', 'object_type': 'image', 'page_number': 6, 'top': 215.905, 'bottom': 375.375, 'doctop': 2240.905}\n",
      "--- Images on Page 7 ---\n",
      "--- Images on Page 8 ---\n",
      "--- Images on Page 9 ---\n",
      "{'x0': 205.5, 'y0': 53.402, 'x1': 481.5, 'y1': 191.502, 'width': 276.0, 'height': 138.10000000000002, 'name': 'Image95', 'stream': <PDFStream(95): raw=15941, {'Type': /'XObject', 'Subtype': /'Image', 'Width': 520, 'Height': 260, 'ColorSpace': /'DeviceRGB', 'BitsPerComponent': 8, 'Interpolate': False, 'Filter': /'FlateDecode', 'Length': 15941}>, 'srcsize': (520, 260), 'imagemask': None, 'bits': 8, 'colorspace': [/'DeviceRGB'], 'mcid': 13, 'tag': 'P', 'object_type': 'image', 'page_number': 9, 'top': 213.498, 'bottom': 351.598, 'doctop': 3453.498}\n",
      "--- Images on Page 10 ---\n",
      "--- Images on Page 11 ---\n",
      "{'x0': 130.61, 'y0': 67.124, 'x1': 388.54, 'y1': 144.902, 'width': 257.93, 'height': 77.77799999999999, 'name': 'Image102', 'stream': <PDFStream(102): raw=2786, {'Type': /'XObject', 'Subtype': /'Image', 'Width': 388, 'Height': 117, 'ColorSpace': /'DeviceRGB', 'BitsPerComponent': 8, 'Interpolate': False, 'Filter': /'FlateDecode', 'Length': 2786}>, 'srcsize': (388, 117), 'imagemask': None, 'bits': 8, 'colorspace': [/'DeviceRGB'], 'mcid': 28, 'tag': 'P', 'object_type': 'image', 'page_number': 11, 'top': 260.098, 'bottom': 337.876, 'doctop': 4310.098}\n",
      "--- Images on Page 12 ---\n",
      "--- Images on Page 13 ---\n",
      "{'x0': 73.108, 'y0': 29.625, 'x1': 646.8879999999999, 'y1': 215.305, 'width': 573.78, 'height': 185.68, 'name': 'Image140', 'stream': <PDFStream(140): raw=24383, {'Type': /'XObject', 'Subtype': /'Image', 'Width': 720, 'Height': 233, 'ColorSpace': /'DeviceRGB', 'BitsPerComponent': 8, 'Filter': /'DCTDecode', 'Interpolate': True, 'Length': 24383}>, 'srcsize': (720, 233), 'imagemask': None, 'bits': 8, 'colorspace': [/'DeviceRGB'], 'mcid': 11, 'tag': 'P', 'object_type': 'image', 'page_number': 13, 'top': 189.695, 'bottom': 375.375, 'doctop': 5049.695}\n",
      "--- Images on Page 14 ---\n",
      "--- Images on Page 15 ---\n",
      "--- Images on Page 16 ---\n",
      "--- Images on Page 17 ---\n",
      "--- Images on Page 18 ---\n",
      "{'x0': 90.515, 'y0': 56.375, 'x1': 633.625, 'y1': 308.675, 'width': 543.11, 'height': 252.3, 'name': 'Image152', 'stream': <PDFStream(152): raw=228120, {'Type': /'XObject', 'Subtype': /'Image', 'Width': 1354, 'Height': 629, 'ColorSpace': /'DeviceRGB', 'BitsPerComponent': 8, 'Interpolate': False, 'Filter': /'FlateDecode', 'Length': 228120}>, 'srcsize': (1354, 629), 'imagemask': None, 'bits': 8, 'colorspace': [/'DeviceRGB'], 'mcid': 3, 'tag': 'P', 'object_type': 'image', 'page_number': 18, 'top': 96.32499999999999, 'bottom': 348.625, 'doctop': 6981.325}\n",
      "--- Images on Page 19 ---\n",
      "--- Images on Page 20 ---\n",
      "--- Images on Page 21 ---\n",
      "--- Images on Page 22 ---\n",
      "--- Images on Page 23 ---\n",
      "--- Images on Page 24 ---\n",
      "--- Images on Page 25 ---\n",
      "--- Images on Page 26 ---\n",
      "--- Images on Page 27 ---\n",
      "--- Images on Page 28 ---\n",
      "--- Images on Page 29 ---\n",
      "--- Images on Page 30 ---\n",
      "{'x0': 264.26, 'y0': 8.0625, 'x1': 443.84000000000003, 'y1': 187.6425, 'width': 179.58000000000004, 'height': 179.58, 'name': 'Image212', 'stream': <PDFStream(212): raw=785, {'Type': /'XObject', 'Subtype': /'Image', 'Width': 512, 'Height': 512, 'ColorSpace': /'DeviceRGB', 'BitsPerComponent': 8, 'Interpolate': False, 'SMask': <PDFObjRef:213>, 'Filter': /'FlateDecode', 'Length': 785}>, 'srcsize': (512, 512), 'imagemask': None, 'bits': 8, 'colorspace': [/'DeviceRGB'], 'mcid': 9, 'tag': 'P', 'object_type': 'image', 'page_number': 30, 'top': 217.3575, 'bottom': 396.9375, 'doctop': 11962.3575}\n",
      "--- Images on Page 31 ---\n"
     ]
    },
    {
     "name": "stderr",
     "output_type": "stream",
     "text": [
      "Cannot set gray non-stroke color because /'P231' is an invalid float value\n"
     ]
    },
    {
     "name": "stdout",
     "output_type": "stream",
     "text": [
      "--- Images on Page 32 ---\n",
      "--- Images on Page 33 ---\n",
      "{'x0': 514.96, 'y0': 151.529984741, 'x1': 647.98, 'y1': 284.55, 'width': 133.01999999999998, 'height': 133.02001525900002, 'name': 'Image64', 'stream': <PDFStream(64): raw=7095, {'Type': /'XObject', 'Subtype': /'Image', 'Width': 369, 'Height': 369, 'ColorSpace': /'DeviceRGB', 'BitsPerComponent': 8, 'Interpolate': False, 'Filter': /'FlateDecode', 'Length': 7095}>, 'srcsize': (369, 369), 'imagemask': None, 'bits': 8, 'colorspace': [/'DeviceRGB'], 'mcid': 9, 'tag': 'P', 'object_type': 'image', 'page_number': 33, 'top': 120.44999999999999, 'bottom': 253.470015259, 'doctop': 13080.45}\n",
      "--- Images on Page 34 ---\n"
     ]
    }
   ],
   "source": [
    "import pdfplumber\n",
    "\n",
    "with pdfplumber.open(\"PDFs/DA 2009 - Week 1.pdf\") as pdf:\n",
    "    for page_num, page in enumerate(pdf.pages, start=1):\n",
    "        images = page.images\n",
    "        print(f\"--- Images on Page {page_num} ---\")\n",
    "        for img in images:\n",
    "            # Gives metadata about images (x0, y0, width, height, etc.)\n",
    "            print(img)  "
   ]
  },
  {
   "cell_type": "markdown",
   "id": "2da90198",
   "metadata": {},
   "source": [
    "#### Extract metadata"
   ]
  },
  {
   "cell_type": "code",
   "execution_count": 44,
   "id": "f754ab06",
   "metadata": {},
   "outputs": [
    {
     "name": "stdout",
     "output_type": "stream",
     "text": [
      "--- PDF Metadata ---\n",
      "{'Author': '(anonymous)', 'CreationDate': \"D:20250816135601+00'00'\", 'Creator': '(unspecified)', 'Keywords': '', 'ModDate': \"D:20250816135601+00'00'\", 'Producer': 'ReportLab PDF Library - www.reportlab.com', 'Subject': '(unspecified)', 'Title': '(anonymous)', 'Trapped': 'False'}\n"
     ]
    }
   ],
   "source": [
    "import pdfplumber\n",
    "\n",
    "with pdfplumber.open(\"PDFs/example.pdf\") as pdf:\n",
    "    metadata = pdf.metadata\n",
    "    print(\"--- PDF Metadata ---\")\n",
    "    print(metadata)"
   ]
  },
  {
   "cell_type": "markdown",
   "id": "81fadffc",
   "metadata": {},
   "source": [
    "#### Extract characters and fine details"
   ]
  },
  {
   "cell_type": "code",
   "execution_count": 45,
   "id": "183fe5a6",
   "metadata": {},
   "outputs": [
    {
     "name": "stdout",
     "output_type": "stream",
     "text": [
      "--- Characters on Page 1 ---\n",
      "{'matrix': (1.0, 0.0, 0.0, 1.0, 78.0, 747.8898), 'fontname': 'HeiseiMin-W3', 'adv': 8.896, 'upright': True, 'x0': 78.0, 'y0': 744.0338, 'x1': 86.896, 'y1': 760.0338, 'width': 8.896, 'height': 16.0, 'size': 16.0, 'mcid': None, 'tag': None, 'object_type': 'char', 'page_number': 1, 'ncs': 'DeviceRGB', 'text': 'S', 'stroking_color': (0,), 'non_stroking_color': (0.0, 0.0, 0.0), 'top': 81.856, 'bottom': 97.856, 'doctop': 81.856}\n",
      "{'matrix': (1.0, 0.0, 0.0, 1.0, 86.896, 747.8898), 'fontname': 'HeiseiMin-W3', 'adv': 7.104, 'upright': True, 'x0': 86.896, 'y0': 744.0338, 'x1': 94.0, 'y1': 760.0338, 'width': 7.103999999999999, 'height': 16.0, 'size': 16.0, 'mcid': None, 'tag': None, 'object_type': 'char', 'page_number': 1, 'ncs': 'DeviceRGB', 'text': 'a', 'stroking_color': (0,), 'non_stroking_color': (0.0, 0.0, 0.0), 'top': 81.856, 'bottom': 97.856, 'doctop': 81.856}\n",
      "{'matrix': (1.0, 0.0, 0.0, 1.0, 94.0, 747.8898), 'fontname': 'HeiseiMin-W3', 'adv': 12.448, 'upright': True, 'x0': 94.0, 'y0': 744.0338, 'x1': 106.44800000000001, 'y1': 760.0338, 'width': 12.448000000000008, 'height': 16.0, 'size': 16.0, 'mcid': None, 'tag': None, 'object_type': 'char', 'page_number': 1, 'ncs': 'DeviceRGB', 'text': 'm', 'stroking_color': (0,), 'non_stroking_color': (0.0, 0.0, 0.0), 'top': 81.856, 'bottom': 97.856, 'doctop': 81.856}\n",
      "{'matrix': (1.0, 0.0, 0.0, 1.0, 106.44800000000001, 747.8898), 'fontname': 'HeiseiMin-W3', 'adv': 8.0, 'upright': True, 'x0': 106.44800000000001, 'y0': 744.0338, 'x1': 114.44800000000001, 'y1': 760.0338, 'width': 8.0, 'height': 16.0, 'size': 16.0, 'mcid': None, 'tag': None, 'object_type': 'char', 'page_number': 1, 'ncs': 'DeviceRGB', 'text': 'p', 'stroking_color': (0,), 'non_stroking_color': (0.0, 0.0, 0.0), 'top': 81.856, 'bottom': 97.856, 'doctop': 81.856}\n",
      "{'matrix': (1.0, 0.0, 0.0, 1.0, 114.44800000000001, 747.8898), 'fontname': 'HeiseiMin-W3', 'adv': 4.448, 'upright': True, 'x0': 114.44800000000001, 'y0': 744.0338, 'x1': 118.89600000000002, 'y1': 760.0338, 'width': 4.4480000000000075, 'height': 16.0, 'size': 16.0, 'mcid': None, 'tag': None, 'object_type': 'char', 'page_number': 1, 'ncs': 'DeviceRGB', 'text': 'l', 'stroking_color': (0,), 'non_stroking_color': (0.0, 0.0, 0.0), 'top': 81.856, 'bottom': 97.856, 'doctop': 81.856}\n",
      "{'matrix': (1.0, 0.0, 0.0, 1.0, 118.896, 747.8898), 'fontname': 'HeiseiMin-W3', 'adv': 7.104, 'upright': True, 'x0': 118.896, 'y0': 744.0338, 'x1': 126.0, 'y1': 760.0338, 'width': 7.103999999999999, 'height': 16.0, 'size': 16.0, 'mcid': None, 'tag': None, 'object_type': 'char', 'page_number': 1, 'ncs': 'DeviceRGB', 'text': 'e', 'stroking_color': (0,), 'non_stroking_color': (0.0, 0.0, 0.0), 'top': 81.856, 'bottom': 97.856, 'doctop': 81.856}\n",
      "{'matrix': (1.0, 0.0, 0.0, 1.0, 126.0, 747.8898), 'fontname': 'HeiseiMin-W3', 'adv': 4.0, 'upright': True, 'x0': 126.0, 'y0': 744.0338, 'x1': 130.0, 'y1': 760.0338, 'width': 4.0, 'height': 16.0, 'size': 16.0, 'mcid': None, 'tag': None, 'object_type': 'char', 'page_number': 1, 'ncs': 'DeviceRGB', 'text': ' ', 'stroking_color': (0,), 'non_stroking_color': (0.0, 0.0, 0.0), 'top': 81.856, 'bottom': 97.856, 'doctop': 81.856}\n",
      "{'matrix': (1.0, 0.0, 0.0, 1.0, 130.0, 747.8898), 'fontname': 'HeiseiMin-W3', 'adv': 11.552, 'upright': True, 'x0': 130.0, 'y0': 744.0338, 'x1': 141.552, 'y1': 760.0338, 'width': 11.551999999999992, 'height': 16.0, 'size': 16.0, 'mcid': None, 'tag': None, 'object_type': 'char', 'page_number': 1, 'ncs': 'DeviceRGB', 'text': 'D', 'stroking_color': (0,), 'non_stroking_color': (0.0, 0.0, 0.0), 'top': 81.856, 'bottom': 97.856, 'doctop': 81.856}\n",
      "{'matrix': (1.0, 0.0, 0.0, 1.0, 141.552, 747.8898), 'fontname': 'HeiseiMin-W3', 'adv': 8.0, 'upright': True, 'x0': 141.552, 'y0': 744.0338, 'x1': 149.552, 'y1': 760.0338, 'width': 8.0, 'height': 16.0, 'size': 16.0, 'mcid': None, 'tag': None, 'object_type': 'char', 'page_number': 1, 'ncs': 'DeviceRGB', 'text': 'o', 'stroking_color': (0,), 'non_stroking_color': (0.0, 0.0, 0.0), 'top': 81.856, 'bottom': 97.856, 'doctop': 81.856}\n",
      "{'matrix': (1.0, 0.0, 0.0, 1.0, 149.552, 747.8898), 'fontname': 'HeiseiMin-W3', 'adv': 7.104, 'upright': True, 'x0': 149.552, 'y0': 744.0338, 'x1': 156.656, 'y1': 760.0338, 'width': 7.104000000000013, 'height': 16.0, 'size': 16.0, 'mcid': None, 'tag': None, 'object_type': 'char', 'page_number': 1, 'ncs': 'DeviceRGB', 'text': 'c', 'stroking_color': (0,), 'non_stroking_color': (0.0, 0.0, 0.0), 'top': 81.856, 'bottom': 97.856, 'doctop': 81.856}\n"
     ]
    }
   ],
   "source": [
    "import pdfplumber\n",
    "\n",
    "with pdfplumber.open(\"PDFs/example.pdf\") as pdf:\n",
    "    page = pdf.pages[0]\n",
    "    chars = page.chars\n",
    "    print(\"--- Characters on Page 1 ---\")\n",
    "    for c in chars[:10]:  # printing only first 10 chars\n",
    "        print(c)\n"
   ]
  },
  {
   "cell_type": "markdown",
   "id": "2f62e958",
   "metadata": {},
   "source": [
    "#### View PDF page as an image"
   ]
  },
  {
   "cell_type": "code",
   "execution_count": 46,
   "id": "0c9a3796",
   "metadata": {},
   "outputs": [
    {
     "data": {
      "image/png": "[encoded data removed]",
      "text/plain": [
       "<pdfplumber.display.PageImage at 0x2161ee37590>"
      ]
     },
     "execution_count": 46,
     "metadata": {},
     "output_type": "execute_result"
    }
   ],
   "source": [
    "import pdfplumber\n",
    "\n",
    "pdf_path = \"PDFs/example.pdf\"\n",
    "all_text = \"\"\n",
    "\n",
    "with pdfplumber.open(pdf_path) as pdf:\n",
    "    all_text = pdf.pages[0].extract_text()\n",
    "\n",
    "im = pdf.pages[0].to_image()\n",
    "im"
   ]
  },
  {
   "cell_type": "markdown",
   "id": "a5ce4077",
   "metadata": {},
   "source": []
  }
 ],
 "metadata": {
  "kernelspec": {
   "display_name": ".venv",
   "language": "python",
   "name": "python3"
  },
  "language_info": {
   "codemirror_mode": {
    "name": "ipython",
    "version": 3
   },
   "file_extension": ".py",
   "mimetype": "text/x-python",
   "name": "python",
   "nbconvert_exporter": "python",
   "pygments_lexer": "ipython3",
   "version": "3.12.4"
  }
 },
 "nbformat": 4,
 "nbformat_minor": 5
}
