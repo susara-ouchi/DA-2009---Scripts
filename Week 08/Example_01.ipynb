{
 "cells": [
  {
   "cell_type": "code",
   "execution_count": 1,
   "id": "519fe39e",
   "metadata": {},
   "outputs": [],
   "source": [
    "# !pip install pdfplumber"
   ]
  },
  {
   "cell_type": "markdown",
   "id": "98fe5df6",
   "metadata": {},
   "source": [
    "### PDF Plumber"
   ]
  },
  {
   "cell_type": "code",
   "execution_count": 2,
   "id": "94db5a26",
   "metadata": {},
   "outputs": [
    {
     "name": "stdout",
     "output_type": "stream",
     "text": [
      "\n",
      "--- Page 1 ---\n",
      "Hello!\n",
      "This is the content here.\n"
     ]
    }
   ],
   "source": [
    "import pdfplumber\n",
    "\n",
    "# Path to your PDF file\n",
    "pdf_path = \"example.pdf\"\n",
    "\n",
    "# Open and extract text\n",
    "with pdfplumber.open(pdf_path) as pdf:\n",
    "    all_text = \"\"\n",
    "    for page_num, page in enumerate(pdf.pages, start=1):\n",
    "        text = page.extract_text()\n",
    "        if text:\n",
    "            all_text += f\"\\n--- Page {page_num} ---\\n{text}\"\n",
    "        else:\n",
    "            all_text += f\"\\n--- Page {page_num} ---\\n(No text found)\"\n",
    "\n",
    "# Print or save the extracted text\n",
    "print(all_text)\n",
    "\n",
    "# Optionally, save to a .txt file\n",
    "with open(\"extracted_text_pdf_plumber.txt\", \"w\", encoding=\"utf-8\") as f:\n",
    "    f.write(all_text)\n"
   ]
  },
  {
   "cell_type": "markdown",
   "id": "683ccd2f",
   "metadata": {},
   "source": [
    "### PyPDF2"
   ]
  },
  {
   "cell_type": "code",
   "execution_count": 3,
   "id": "f8483885",
   "metadata": {},
   "outputs": [],
   "source": [
    "# !pip install PyPDF2"
   ]
  },
  {
   "cell_type": "code",
   "execution_count": 4,
   "id": "b2055440",
   "metadata": {},
   "outputs": [
    {
     "name": "stdout",
     "output_type": "stream",
     "text": [
      "\n",
      "--- Page 1 ---\n",
      "Hello ! \n",
      " \n",
      "This is the cont ent here.  \n"
     ]
    }
   ],
   "source": [
    "import PyPDF2\n",
    "\n",
    "# Path to your PDF file\n",
    "pdf_path = \"example.pdf\"\n",
    "\n",
    "# Open the PDF file in read-binary mode\n",
    "with open(pdf_path, \"rb\") as file:\n",
    "    reader = PyPDF2.PdfReader(file)\n",
    "    \n",
    "    all_text = \"\"\n",
    "    for page_num, page in enumerate(reader.pages, start=1):\n",
    "        text = page.extract_text()\n",
    "        if text:\n",
    "            all_text += f\"\\n--- Page {page_num} ---\\n{text}\"\n",
    "        else:\n",
    "            all_text += f\"\\n--- Page {page_num} ---\\n(No text found)\"\n",
    "\n",
    "# Print or save the extracted text\n",
    "print(all_text)\n",
    "\n",
    "# Optionally save to a .txt file\n",
    "with open(\"extracted_text_pypdf2.txt\", \"w\", encoding=\"utf-8\") as f:\n",
    "    f.write(all_text)\n"
   ]
  }
 ],
 "metadata": {
  "kernelspec": {
   "display_name": ".venv",
   "language": "python",
   "name": "python3"
  },
  "language_info": {
   "codemirror_mode": {
    "name": "ipython",
    "version": 3
   },
   "file_extension": ".py",
   "mimetype": "text/x-python",
   "name": "python",
   "nbconvert_exporter": "python",
   "pygments_lexer": "ipython3",
   "version": "3.12.4"
  }
 },
 "nbformat": 4,
 "nbformat_minor": 5
}
