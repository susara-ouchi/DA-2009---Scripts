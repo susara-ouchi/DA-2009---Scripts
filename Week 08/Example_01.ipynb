{
 "cells": [
  {
   "cell_type": "code",
   "execution_count": 1,
   "id": "519fe39e",
   "metadata": {},
   "outputs": [],
   "source": [
    "# !pip install pdfplumber"
   ]
  },
  {
   "cell_type": "markdown",
   "id": "98fe5df6",
   "metadata": {},
   "source": [
    "### PDF Plumber"
   ]
  },
  {
   "cell_type": "code",
   "execution_count": 2,
   "id": "94db5a26",
   "metadata": {},
   "outputs": [
    {
     "name": "stdout",
     "output_type": "stream",
     "text": [
      "\n",
      "--- Page 1 ---\n",
      "Hello!\n",
      "This is the content here.\n"
     ]
    }
   ],
   "source": [
    "import pdfplumber\n",
    "\n",
    "# Path to your PDF file\n",
    "pdf_path = \"example.pdf\"\n",
    "\n",
    "# Open and extract text\n",
    "with pdfplumber.open(pdf_path) as pdf:\n",
    "    all_text = \"\"\n",
    "    for page_num, page in enumerate(pdf.pages, start=1):\n",
    "        text = page.extract_text()\n",
    "        if text:\n",
    "            all_text += f\"\\n--- Page {page_num} ---\\n{text}\"\n",
    "        else:\n",
    "            all_text += f\"\\n--- Page {page_num} ---\\n(No text found)\"\n",
    "\n",
    "# Print or save the extracted text\n",
    "print(all_text)\n",
    "\n",
    "# Optionally, save to a .txt file\n",
    "with open(\"extracted_text_pdf_plumber.txt\", \"w\", encoding=\"utf-8\") as f:\n",
    "    f.write(all_text)\n"
   ]
  },
  {
   "cell_type": "markdown",
   "id": "683ccd2f",
   "metadata": {},
   "source": [
    "### PyPDF2"
   ]
  },
  {
   "cell_type": "code",
   "execution_count": 3,
   "id": "f8483885",
   "metadata": {},
   "outputs": [],
   "source": [
    "# !pip install PyPDF2"
   ]
  },
  {
   "cell_type": "code",
   "execution_count": 4,
   "id": "b2055440",
   "metadata": {},
   "outputs": [
    {
     "name": "stdout",
     "output_type": "stream",
     "text": [
      "\n",
      "--- Page 1 ---\n",
      "Hello ! \n",
      " \n",
      "This is the cont ent here.  \n"
     ]
    }
   ],
   "source": [
    "import PyPDF2\n",
    "\n",
    "# Path to your PDF file\n",
    "pdf_path = \"example.pdf\"\n",
    "\n",
    "# Open the PDF file in read-binary mode\n",
    "with open(pdf_path, \"rb\") as file:\n",
    "    reader = PyPDF2.PdfReader(file)\n",
    "    \n",
    "    all_text = \"\"\n",
    "    for page_num, page in enumerate(reader.pages, start=1):\n",
    "        text = page.extract_text()\n",
    "        if text:\n",
    "            all_text += f\"\\n--- Page {page_num} ---\\n{text}\"\n",
    "        else:\n",
    "            all_text += f\"\\n--- Page {page_num} ---\\n(No text found)\"\n",
    "\n",
    "# Print or save the extracted text\n",
    "print(all_text)\n",
    "\n",
    "# Optionally save to a .txt file\n",
    "with open(\"extracted_text_pypdf2.txt\", \"w\", encoding=\"utf-8\") as f:\n",
    "    f.write(all_text)\n"
   ]
  },
  {
   "cell_type": "code",
   "execution_count": 8,
   "id": "6d73ed4c",
   "metadata": {},
   "outputs": [
    {
     "ename": "RuntimeError",
     "evalue": "Directory 'static/' does not exist",
     "output_type": "error",
     "traceback": [
      "\u001b[31m---------------------------------------------------------------------------\u001b[39m",
      "\u001b[31mRuntimeError\u001b[39m                              Traceback (most recent call last)",
      "\u001b[36mCell\u001b[39m\u001b[36m \u001b[39m\u001b[32mIn[8]\u001b[39m\u001b[32m, line 1\u001b[39m\n\u001b[32m----> \u001b[39m\u001b[32m1\u001b[39m \u001b[38;5;28;01mimport\u001b[39;00m\u001b[38;5;250m \u001b[39m\u001b[34;01mfitz\u001b[39;00m  \u001b[38;5;66;03m# PyMuPDF\u001b[39;00m\n\u001b[32m      3\u001b[39m \u001b[38;5;66;03m# Path to your PDF file\u001b[39;00m\n\u001b[32m      4\u001b[39m pdf_path = \u001b[33m\"\u001b[39m\u001b[33mexample.pdf\u001b[39m\u001b[33m\"\u001b[39m\n",
      "\u001b[36mFile \u001b[39m\u001b[32mf:\\UOC - Lectures\\DA_2009 - Data Collection Methods 2\\DA 2009 - Scripts\\.venv\\Lib\\site-packages\\fitz\\__init__.py:1\u001b[39m\n\u001b[32m----> \u001b[39m\u001b[32m1\u001b[39m \u001b[38;5;28;01mfrom\u001b[39;00m\u001b[38;5;250m \u001b[39m\u001b[34;01mfrontend\u001b[39;00m\u001b[38;5;250m \u001b[39m\u001b[38;5;28;01mimport\u001b[39;00m *\n\u001b[32m      2\u001b[39m \u001b[38;5;28;01mimport\u001b[39;00m\u001b[38;5;250m \u001b[39m\u001b[34;01mtools\u001b[39;00m\n\u001b[32m      3\u001b[39m \u001b[38;5;28;01mimport\u001b[39;00m\u001b[38;5;250m \u001b[39m\u001b[34;01mos\u001b[39;00m\u001b[34;01m.\u001b[39;00m\u001b[34;01mpath\u001b[39;00m\u001b[38;5;250m \u001b[39m\u001b[38;5;28;01mas\u001b[39;00m\u001b[38;5;250m \u001b[39m\u001b[34;01mop\u001b[39;00m\n",
      "\u001b[36mFile \u001b[39m\u001b[32mf:\\UOC - Lectures\\DA_2009 - Data Collection Methods 2\\DA 2009 - Scripts\\.venv\\Lib\\site-packages\\frontend\\__init__.py:1\u001b[39m\n\u001b[32m----> \u001b[39m\u001b[32m1\u001b[39m \u001b[38;5;28;01mfrom\u001b[39;00m\u001b[38;5;250m \u001b[39m\u001b[34;01m.\u001b[39;00m\u001b[34;01mevents\u001b[39;00m\u001b[38;5;250m \u001b[39m\u001b[38;5;28;01mimport\u001b[39;00m *\n\u001b[32m      2\u001b[39m \u001b[38;5;28;01mfrom\u001b[39;00m\u001b[38;5;250m \u001b[39m\u001b[34;01m.\u001b[39;00m\u001b[38;5;250m \u001b[39m\u001b[38;5;28;01mimport\u001b[39;00m config\n\u001b[32m      3\u001b[39m \u001b[38;5;28;01mfrom\u001b[39;00m\u001b[38;5;250m \u001b[39m\u001b[34;01m.\u001b[39;00m\u001b[34;01mcomponents\u001b[39;00m\u001b[38;5;250m \u001b[39m\u001b[38;5;28;01mimport\u001b[39;00m *\n",
      "\u001b[36mFile \u001b[39m\u001b[32mf:\\UOC - Lectures\\DA_2009 - Data Collection Methods 2\\DA 2009 - Scripts\\.venv\\Lib\\site-packages\\frontend\\events\\__init__.py:1\u001b[39m\n\u001b[32m----> \u001b[39m\u001b[32m1\u001b[39m \u001b[38;5;28;01mfrom\u001b[39;00m\u001b[38;5;250m \u001b[39m\u001b[34;01m.\u001b[39;00m\u001b[34;01mclipboard\u001b[39;00m\u001b[38;5;250m \u001b[39m\u001b[38;5;28;01mimport\u001b[39;00m *\n\u001b[32m      2\u001b[39m \u001b[38;5;28;01mfrom\u001b[39;00m\u001b[38;5;250m \u001b[39m\u001b[34;01m.\u001b[39;00m\u001b[34;01mevent_mixins\u001b[39;00m\u001b[38;5;250m \u001b[39m\u001b[38;5;28;01mimport\u001b[39;00m *\n\u001b[32m      3\u001b[39m \u001b[38;5;28;01mfrom\u001b[39;00m\u001b[38;5;250m \u001b[39m\u001b[34;01m.\u001b[39;00m\u001b[34;01mhash_change\u001b[39;00m\u001b[38;5;250m \u001b[39m\u001b[38;5;28;01mimport\u001b[39;00m *\n",
      "\u001b[36mFile \u001b[39m\u001b[32mf:\\UOC - Lectures\\DA_2009 - Data Collection Methods 2\\DA 2009 - Scripts\\.venv\\Lib\\site-packages\\frontend\\events\\clipboard.py:2\u001b[39m\n\u001b[32m      1\u001b[39m \u001b[38;5;28;01mfrom\u001b[39;00m\u001b[38;5;250m \u001b[39m\u001b[34;01m.\u001b[39;00m\u001b[34;01mevent_mixins\u001b[39;00m\u001b[38;5;250m \u001b[39m\u001b[38;5;28;01mimport\u001b[39;00m ClipboardDataMixin\n\u001b[32m----> \u001b[39m\u001b[32m2\u001b[39m \u001b[38;5;28;01mfrom\u001b[39;00m\u001b[38;5;250m \u001b[39m\u001b[34;01m.\u001b[39;00m\u001b[34;01m.\u001b[39;00m\u001b[34;01mdom\u001b[39;00m\u001b[38;5;250m \u001b[39m\u001b[38;5;28;01mimport\u001b[39;00m Event\n\u001b[32m      4\u001b[39m __all__ = [\u001b[33m'\u001b[39m\u001b[33mClipboardEvent\u001b[39m\u001b[33m'\u001b[39m]\n\u001b[32m      7\u001b[39m \u001b[38;5;28;01mclass\u001b[39;00m\u001b[38;5;250m \u001b[39m\u001b[34;01mClipboardEvent\u001b[39;00m(Event, ClipboardDataMixin):\n",
      "\u001b[36mFile \u001b[39m\u001b[32mf:\\UOC - Lectures\\DA_2009 - Data Collection Methods 2\\DA 2009 - Scripts\\.venv\\Lib\\site-packages\\frontend\\dom.py:439\u001b[39m\n\u001b[32m    435\u001b[39m         \u001b[38;5;28;01mexcept\u001b[39;00m \u001b[38;5;167;01mKeyError\u001b[39;00m:\n\u001b[32m    436\u001b[39m             \u001b[38;5;28;01mpass\u001b[39;00m\n\u001b[32m--> \u001b[39m\u001b[32m439\u001b[39m \u001b[38;5;28;01mfrom\u001b[39;00m\u001b[38;5;250m \u001b[39m\u001b[34;01m.\u001b[39;00m\u001b[38;5;250m \u001b[39m\u001b[38;5;28;01mimport\u001b[39;00m dispatcher\n",
      "\u001b[36mFile \u001b[39m\u001b[32mf:\\UOC - Lectures\\DA_2009 - Data Collection Methods 2\\DA 2009 - Scripts\\.venv\\Lib\\site-packages\\frontend\\dispatcher.py:15\u001b[39m\n\u001b[32m     12\u001b[39m \u001b[38;5;28;01mfrom\u001b[39;00m\u001b[38;5;250m \u001b[39m\u001b[34;01mstarlette\u001b[39;00m\u001b[34;01m.\u001b[39;00m\u001b[34;01mendpoints\u001b[39;00m\u001b[38;5;250m \u001b[39m\u001b[38;5;28;01mimport\u001b[39;00m WebSocketEndpoint\n\u001b[32m     13\u001b[39m \u001b[38;5;28;01mfrom\u001b[39;00m\u001b[38;5;250m \u001b[39m\u001b[34;01mstarlette\u001b[39;00m\u001b[34;01m.\u001b[39;00m\u001b[34;01mwebsockets\u001b[39;00m\u001b[38;5;250m \u001b[39m\u001b[38;5;28;01mimport\u001b[39;00m WebSocket\n\u001b[32m---> \u001b[39m\u001b[32m15\u001b[39m \u001b[38;5;28;01mfrom\u001b[39;00m\u001b[38;5;250m \u001b[39m\u001b[34;01m.\u001b[39;00m\u001b[38;5;250m \u001b[39m\u001b[38;5;28;01mimport\u001b[39;00m config, server\n\u001b[32m     16\u001b[39m \u001b[38;5;28;01mfrom\u001b[39;00m\u001b[38;5;250m \u001b[39m\u001b[34;01m.\u001b[39;00m\u001b[34;01masync_utils\u001b[39;00m\u001b[38;5;250m \u001b[39m\u001b[38;5;28;01mimport\u001b[39;00m later_await\n\u001b[32m     18\u001b[39m __all__ = [\u001b[33m'\u001b[39m\u001b[33mreact\u001b[39m\u001b[33m'\u001b[39m]\n",
      "\u001b[36mFile \u001b[39m\u001b[32mf:\\UOC - Lectures\\DA_2009 - Data Collection Methods 2\\DA 2009 - Scripts\\.venv\\Lib\\site-packages\\frontend\\server.py:24\u001b[39m\n\u001b[32m     21\u001b[39m __all__ = [\u001b[33m'\u001b[39m\u001b[33mroute\u001b[39m\u001b[33m'\u001b[39m, \u001b[33m'\u001b[39m\u001b[33mrun\u001b[39m\u001b[33m'\u001b[39m]\n\u001b[32m     23\u001b[39m app: Any = Starlette(debug=config.DEBUG)\n\u001b[32m---> \u001b[39m\u001b[32m24\u001b[39m app.mount(config.STATIC_ROUTE, \u001b[43mStaticFiles\u001b[49m\u001b[43m(\u001b[49m\u001b[43mdirectory\u001b[49m\u001b[43m=\u001b[49m\u001b[43mconfig\u001b[49m\u001b[43m.\u001b[49m\u001b[43mSTATIC_DIRECTORY\u001b[49m\u001b[43m)\u001b[49m, name=config.STATIC_NAME)\n\u001b[32m     25\u001b[39m app.add_middleware(GZipMiddleware)\n\u001b[32m     26\u001b[39m app.add_middleware(\n\u001b[32m     27\u001b[39m     CORSMiddleware,\n\u001b[32m     28\u001b[39m     allow_origins=[\u001b[33m\"\u001b[39m\u001b[33m*\u001b[39m\u001b[33m\"\u001b[39m],\n\u001b[32m   (...)\u001b[39m\u001b[32m     31\u001b[39m     allow_headers=[\u001b[33m\"\u001b[39m\u001b[33m*\u001b[39m\u001b[33m\"\u001b[39m],\n\u001b[32m     32\u001b[39m )\n",
      "\u001b[36mFile \u001b[39m\u001b[32mf:\\UOC - Lectures\\DA_2009 - Data Collection Methods 2\\DA 2009 - Scripts\\.venv\\Lib\\site-packages\\starlette\\staticfiles.py:56\u001b[39m, in \u001b[36mStaticFiles.__init__\u001b[39m\u001b[34m(self, directory, packages, html, check_dir, follow_symlink)\u001b[39m\n\u001b[32m     54\u001b[39m \u001b[38;5;28mself\u001b[39m.follow_symlink = follow_symlink\n\u001b[32m     55\u001b[39m \u001b[38;5;28;01mif\u001b[39;00m check_dir \u001b[38;5;129;01mand\u001b[39;00m directory \u001b[38;5;129;01mis\u001b[39;00m \u001b[38;5;129;01mnot\u001b[39;00m \u001b[38;5;28;01mNone\u001b[39;00m \u001b[38;5;129;01mand\u001b[39;00m \u001b[38;5;129;01mnot\u001b[39;00m os.path.isdir(directory):\n\u001b[32m---> \u001b[39m\u001b[32m56\u001b[39m     \u001b[38;5;28;01mraise\u001b[39;00m \u001b[38;5;167;01mRuntimeError\u001b[39;00m(\u001b[33mf\u001b[39m\u001b[33m\"\u001b[39m\u001b[33mDirectory \u001b[39m\u001b[33m'\u001b[39m\u001b[38;5;132;01m{\u001b[39;00mdirectory\u001b[38;5;132;01m}\u001b[39;00m\u001b[33m'\u001b[39m\u001b[33m does not exist\u001b[39m\u001b[33m\"\u001b[39m)\n",
      "\u001b[31mRuntimeError\u001b[39m: Directory 'static/' does not exist"
     ]
    }
   ],
   "source": [
    "import fitz  # PyMuPDF\n",
    "\n",
    "# Path to your PDF file\n",
    "pdf_path = \"example.pdf\"\n",
    "\n",
    "# Open the PDF\n",
    "pdf_document = fitz.open(pdf_path)\n",
    "\n",
    "all_text = \"\"\n",
    "\n",
    "# Loop through pages\n",
    "for page_num in range(len(pdf_document)):\n",
    "    page = pdf_document[page_num]\n",
    "    text = page.get_text()  # Extract text from the page\n",
    "    if text.strip():\n",
    "        all_text += f\"\\n--- Page {page_num + 1} ---\\n{text}\"\n",
    "    else:\n",
    "        all_text += f\"\\n--- Page {page_num + 1} ---\\n(No text found)\"\n",
    "\n",
    "# Close the PDF\n",
    "pdf_document.close()\n",
    "\n",
    "# Print the extracted text\n",
    "print(all_text)\n",
    "\n",
    "# Optionally, save to a .txt file\n",
    "with open(\"extracted_text_pymupdf.txt\", \"w\", encoding=\"utf-8\") as f:\n",
    "    f.write(all_text)\n"
   ]
  },
  {
   "cell_type": "code",
   "execution_count": null,
   "id": "c1b5d871",
   "metadata": {},
   "outputs": [],
   "source": []
  }
 ],
 "metadata": {
  "kernelspec": {
   "display_name": ".venv",
   "language": "python",
   "name": "python3"
  },
  "language_info": {
   "codemirror_mode": {
    "name": "ipython",
    "version": 3
   },
   "file_extension": ".py",
   "mimetype": "text/x-python",
   "name": "python",
   "nbconvert_exporter": "python",
   "pygments_lexer": "ipython3",
   "version": "3.12.4"
  }
 },
 "nbformat": 4,
 "nbformat_minor": 5
}
