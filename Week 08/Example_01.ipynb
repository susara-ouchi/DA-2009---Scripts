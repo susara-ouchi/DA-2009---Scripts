{
 "cells": [
  {
   "cell_type": "code",
   "execution_count": 1,
   "id": "519fe39e",
   "metadata": {},
   "outputs": [],
   "source": [
    "# !pip install pdfplumber"
   ]
  },
  {
   "cell_type": "markdown",
   "id": "98fe5df6",
   "metadata": {},
   "source": [
    "### PDF Plumber"
   ]
  },
  {
   "cell_type": "code",
   "execution_count": 2,
   "id": "94db5a26",
   "metadata": {},
   "outputs": [
    {
     "name": "stdout",
     "output_type": "stream",
     "text": [
      "\n",
      "--- Page 1 ---\n",
      "Hello!\n",
      "This is the content here.\n"
     ]
    }
   ],
   "source": [
    "import pdfplumber\n",
    "\n",
    "# Path to your PDF file\n",
    "pdf_path = \"example.pdf\"\n",
    "\n",
    "# Open and extract text\n",
    "with pdfplumber.open(pdf_path) as pdf:\n",
    "    all_text = \"\"\n",
    "    for page_num, page in enumerate(pdf.pages, start=1):\n",
    "        text = page.extract_text()\n",
    "        if text:\n",
    "            all_text += f\"\\n--- Page {page_num} ---\\n{text}\"\n",
    "        else:\n",
    "            all_text += f\"\\n--- Page {page_num} ---\\n(No text found)\"\n",
    "\n",
    "# Print or save the extracted text\n",
    "print(all_text)\n",
    "\n",
    "# Optionally, save to a .txt file\n",
    "with open(\"extracted_text_pdf_plumber.txt\", \"w\", encoding=\"utf-8\") as f:\n",
    "    f.write(all_text)\n"
   ]
  },
  {
   "cell_type": "markdown",
   "id": "683ccd2f",
   "metadata": {},
   "source": [
    "### PyPDF2"
   ]
  },
  {
   "cell_type": "code",
   "execution_count": 3,
   "id": "f8483885",
   "metadata": {},
   "outputs": [],
   "source": [
    "# !pip install PyPDF2"
   ]
  },
  {
   "cell_type": "code",
   "execution_count": 4,
   "id": "b2055440",
   "metadata": {},
   "outputs": [
    {
     "name": "stdout",
     "output_type": "stream",
     "text": [
      "\n",
      "--- Page 1 ---\n",
      "Hello ! \n",
      " \n",
      "This is the cont ent here.  \n"
     ]
    }
   ],
   "source": [
    "import PyPDF2\n",
    "\n",
    "# Path to your PDF file\n",
    "pdf_path = \"example.pdf\"\n",
    "\n",
    "# Open the PDF file in read-binary mode\n",
    "with open(pdf_path, \"rb\") as file:\n",
    "    reader = PyPDF2.PdfReader(file)\n",
    "    \n",
    "    all_text = \"\"\n",
    "    for page_num, page in enumerate(reader.pages, start=1):\n",
    "        text = page.extract_text()\n",
    "        if text:\n",
    "            all_text += f\"\\n--- Page {page_num} ---\\n{text}\"\n",
    "        else:\n",
    "            all_text += f\"\\n--- Page {page_num} ---\\n(No text found)\"\n",
    "\n",
    "# Print or save the extracted text\n",
    "print(all_text)\n",
    "\n",
    "# Optionally save to a .txt file\n",
    "with open(\"extracted_text_pypdf2.txt\", \"w\", encoding=\"utf-8\") as f:\n",
    "    f.write(all_text)\n"
   ]
  },
  {
   "cell_type": "code",
   "execution_count": 10,
   "id": "18592173",
   "metadata": {},
   "outputs": [
    {
     "name": "stdout",
     "output_type": "stream",
     "text": [
      "Collecting reportlab\n",
      "  Downloading reportlab-4.4.3-py3-none-any.whl.metadata (1.7 kB)\n",
      "Requirement already satisfied: pillow>=9.0.0 in f:\\uoc - lectures\\da_2009 - data collection methods 2\\da 2009 - scripts\\.venv\\lib\\site-packages (from reportlab) (11.3.0)\n",
      "Requirement already satisfied: charset-normalizer in f:\\uoc - lectures\\da_2009 - data collection methods 2\\da 2009 - scripts\\.venv\\lib\\site-packages (from reportlab) (3.4.2)\n",
      "Downloading reportlab-4.4.3-py3-none-any.whl (2.0 MB)\n",
      "   ---------------------------------------- 0.0/2.0 MB ? eta -:--:--\n",
      "   ---------- ----------------------------- 0.5/2.0 MB 5.6 MB/s eta 0:00:01\n",
      "   ------------------------------------- -- 1.8/2.0 MB 5.9 MB/s eta 0:00:01\n",
      "   ---------------------------------------- 2.0/2.0 MB 5.7 MB/s eta 0:00:00\n",
      "Installing collected packages: reportlab\n",
      "Successfully installed reportlab-4.4.3\n"
     ]
    },
    {
     "name": "stderr",
     "output_type": "stream",
     "text": [
      "\n",
      "[notice] A new release of pip is available: 25.1.1 -> 25.2\n",
      "[notice] To update, run: python.exe -m pip install --upgrade pip\n"
     ]
    }
   ],
   "source": [
    "!pip install reportlab"
   ]
  },
  {
   "cell_type": "code",
   "execution_count": 11,
   "id": "c1b5d871",
   "metadata": {},
   "outputs": [
    {
     "name": "stdout",
     "output_type": "stream",
     "text": [
      "PDF created at sample_pdf.pdf\n"
     ]
    }
   ],
   "source": [
    "from reportlab.lib.pagesizes import A4\n",
    "from reportlab.pdfgen import canvas\n",
    "from reportlab.platypus import Table, TableStyle\n",
    "from reportlab.lib import colors\n",
    "\n",
    "pdf_path = \"sample_pdf.pdf\"\n",
    "c = canvas.Canvas(pdf_path, pagesize=A4)\n",
    "width, height = A4\n",
    "\n",
    "# Paragraph\n",
    "text = \"This is a sample PDF document. It contains a paragraph, a list, and a table.\"\n",
    "c.setFont(\"Helvetica\", 12)\n",
    "c.drawString(50, height - 50, text)\n",
    "\n",
    "# List\n",
    "list_items = [\"Item 1: Apples\", \"Item 2: Bananas\", \"Item 3: Cherries\"]\n",
    "y = height - 80\n",
    "for item in list_items:\n",
    "    c.drawString(60, y, f\"- {item}\")\n",
    "    y -= 20\n",
    "\n",
    "# Table\n",
    "data = [[\"Name\", \"Age\", \"City\"],\n",
    "        [\"Alice\", \"30\", \"New York\"],\n",
    "        [\"Bob\", \"25\", \"London\"],\n",
    "        [\"Charlie\", \"28\", \"Paris\"]]\n",
    "\n",
    "table = Table(data, colWidths=[100, 50, 100])\n",
    "table.setStyle(TableStyle([\n",
    "    ('BACKGROUND', (0,0), (-1,0), colors.gray),\n",
    "    ('TEXTCOLOR',(0,0),(-1,0),colors.whitesmoke),\n",
    "    ('ALIGN',(0,0),(-1,-1),'CENTER'),\n",
    "    ('GRID', (0,0), (-1,-1), 1, colors.black)\n",
    "]))\n",
    "\n",
    "table.wrapOn(c, width, height)\n",
    "table.drawOn(c, 50, y - 100)\n",
    "\n",
    "c.save()\n",
    "print(f\"PDF created at {pdf_path}\")"
   ]
  },
  {
   "cell_type": "code",
   "execution_count": 12,
   "id": "ac0a77b3",
   "metadata": {},
   "outputs": [
    {
     "name": "stdout",
     "output_type": "stream",
     "text": [
      "\n",
      "--- Page 1 ---\n",
      "This is a sample PDF document. It contains a paragraph, a list, and a table.\n",
      "- Item 1: Apples\n",
      "- Item 2: Bananas\n",
      "- Item 3: Cherries\n",
      "Name\n",
      "Age\n",
      "City\n",
      "Alice\n",
      "30\n",
      "New York\n",
      "Bob\n",
      "25\n",
      "London\n",
      "Charlie\n",
      "28\n",
      "Paris\n",
      "\n"
     ]
    }
   ],
   "source": [
    "import PyPDF2\n",
    "\n",
    "pdf_path = \"sample_pdf.pdf\"\n",
    "all_text = \"\"\n",
    "\n",
    "with open(pdf_path, \"rb\") as f:\n",
    "    reader = PyPDF2.PdfReader(f)\n",
    "    for page_num, page in enumerate(reader.pages, start=1):\n",
    "        text = page.extract_text()\n",
    "        if text:\n",
    "            all_text += f\"\\n--- Page {page_num} ---\\n{text}\"\n",
    "        else:\n",
    "            all_text += f\"\\n--- Page {page_num} ---\\n(No text found)\"\n",
    "\n",
    "print(all_text)\n"
   ]
  },
  {
   "cell_type": "code",
   "execution_count": 13,
   "id": "b80639ed",
   "metadata": {},
   "outputs": [
    {
     "name": "stdout",
     "output_type": "stream",
     "text": [
      "\n",
      "--- Page 1 ---\n",
      "This is a sample PDF document. It contains a paragraph, a list, and a table.\n",
      "- Item 1: Apples\n",
      "- Item 2: Bananas\n",
      "- Item 3: Cherries\n",
      "Name Age City\n",
      "Alice 30 New York\n",
      "Bob 25 London\n",
      "Charlie 28 Paris\n"
     ]
    }
   ],
   "source": [
    "import pdfplumber\n",
    "\n",
    "pdf_path = \"sample_pdf.pdf\"\n",
    "all_text = \"\"\n",
    "\n",
    "with pdfplumber.open(pdf_path) as pdf:\n",
    "    for page_num, page in enumerate(pdf.pages, start=1):\n",
    "        text = page.extract_text()\n",
    "        if text:\n",
    "            all_text += f\"\\n--- Page {page_num} ---\\n{text}\"\n",
    "        else:\n",
    "            all_text += f\"\\n--- Page {page_num} ---\\n(No text found)\"\n",
    "\n",
    "print(all_text)\n"
   ]
  },
  {
   "cell_type": "code",
   "execution_count": 14,
   "id": "e1888ecf",
   "metadata": {},
   "outputs": [
    {
     "name": "stdout",
     "output_type": "stream",
     "text": [
      "CV PDF created at cv_sample.pdf\n"
     ]
    }
   ],
   "source": [
    "from reportlab.lib.pagesizes import A4\n",
    "from reportlab.pdfgen import canvas\n",
    "\n",
    "pdf_path = \"cv_sample.pdf\"\n",
    "c = canvas.Canvas(pdf_path, pagesize=A4)\n",
    "width, height = A4\n",
    "\n",
    "# Set initial position\n",
    "x = 50\n",
    "y = height - 50\n",
    "line_height = 20\n",
    "\n",
    "def add_line(text, font_size=12, bold=False):\n",
    "    global y\n",
    "    c.setFont(\"Helvetica-Bold\" if bold else \"Helvetica\", font_size)\n",
    "    c.drawString(x, y, text)\n",
    "    y -= line_height\n",
    "\n",
    "# Name and basic details\n",
    "add_line(\"Name: John Doe\", bold=True)\n",
    "add_line(\"Email: john.doe@example.com\")\n",
    "add_line(\"Phone: +1-234-567-8900\")\n",
    "add_line(\"Address: 123 Main St, City, Country\")\n",
    "y -= 10  # extra space\n",
    "\n",
    "# University and Degree\n",
    "add_line(\"Education:\", bold=True)\n",
    "add_line(\"University: University of Example\")\n",
    "add_line(\"Degree: Bachelor of Science in Computer Science\")\n",
    "y -= 10\n",
    "\n",
    "# Career\n",
    "add_line(\"Career Experience:\", bold=True)\n",
    "add_line(\"Company: Tech Solutions Ltd.\")\n",
    "add_line(\"Position: Software Engineer\")\n",
    "add_line(\"Duration: 2020 - Present\")\n",
    "y -= 10\n",
    "\n",
    "# Professional certifications\n",
    "add_line(\"Professional Certifications:\", bold=True)\n",
    "add_line(\"Certified Data Scientist (CDS)\")\n",
    "y -= 10\n",
    "\n",
    "# Skills\n",
    "add_line(\"Skills:\", bold=True)\n",
    "skills = [\"Python\", \"Machine Learning\", \"Data Analysis\", \"SQL\", \"Web Development\"]\n",
    "add_line(\", \".join(skills))\n",
    "y -= 10\n",
    "\n",
    "# Projects\n",
    "add_line(\"Projects:\", bold=True)\n",
    "projects = [\n",
    "    \"Project A: Sales Prediction Model\",\n",
    "    \"Project B: CV Parsing Tool\",\n",
    "    \"Project C: Web App for Data Visualization\"\n",
    "]\n",
    "for proj in projects:\n",
    "    add_line(f\"- {proj}\")\n",
    "\n",
    "c.save()\n",
    "print(f\"CV PDF created at {pdf_path}\")\n"
   ]
  },
  {
   "cell_type": "code",
   "execution_count": 15,
   "id": "02c4b4d8",
   "metadata": {},
   "outputs": [
    {
     "name": "stdout",
     "output_type": "stream",
     "text": [
      "Data extracted and saved to cv_data.csv\n"
     ]
    }
   ],
   "source": [
    "import pdfplumber\n",
    "import csv\n",
    "\n",
    "cv_pdf_path = \"cv_sample.pdf\"\n",
    "data_dict = {}\n",
    "\n",
    "with pdfplumber.open(cv_pdf_path) as pdf:\n",
    "    full_text = \"\"\n",
    "    for page in pdf.pages:\n",
    "        full_text += page.extract_text() + \"\\n\"\n",
    "\n",
    "# Split lines and extract sections\n",
    "lines = [line.strip() for line in full_text.split(\"\\n\") if line.strip()]\n",
    "\n",
    "for line in lines:\n",
    "    if line.startswith(\"Name:\"):\n",
    "        data_dict[\"Name\"] = line.split(\"Name:\")[1].strip()\n",
    "    elif line.startswith(\"Email:\"):\n",
    "        data_dict[\"Email\"] = line.split(\"Email:\")[1].strip()\n",
    "    elif line.startswith(\"Phone:\"):\n",
    "        data_dict[\"Phone\"] = line.split(\"Phone:\")[1].strip()\n",
    "    elif line.startswith(\"Address:\"):\n",
    "        data_dict[\"Address\"] = line.split(\"Address:\")[1].strip()\n",
    "    elif line.startswith(\"University:\"):\n",
    "        data_dict[\"University\"] = line.split(\"University:\")[1].strip()\n",
    "    elif line.startswith(\"Degree:\"):\n",
    "        data_dict[\"Degree\"] = line.split(\"Degree:\")[1].strip()\n",
    "    elif line.startswith(\"Company:\"):\n",
    "        data_dict[\"Company\"] = line.split(\"Company:\")[1].strip()\n",
    "    elif line.startswith(\"Position:\"):\n",
    "        data_dict[\"Position\"] = line.split(\"Position:\")[1].strip()\n",
    "    elif line.startswith(\"Duration:\"):\n",
    "        data_dict[\"Duration\"] = line.split(\"Duration:\")[1].strip()\n",
    "    elif line.startswith(\"Certified\"):\n",
    "        data_dict[\"Certifications\"] = line.strip()\n",
    "    elif line.startswith(\"Skills:\"):\n",
    "        data_dict[\"Skills\"] = line.split(\"Skills:\")[1].strip()\n",
    "    elif line.startswith(\"- Project\"):\n",
    "        if \"Projects\" not in data_dict:\n",
    "            data_dict[\"Projects\"] = []\n",
    "        data_dict[\"Projects\"].append(line.strip(\"- \").strip())\n",
    "\n",
    "# Convert list of projects to a single string\n",
    "if \"Projects\" in data_dict:\n",
    "    data_dict[\"Projects\"] = \"; \".join(data_dict[\"Projects\"])\n",
    "\n",
    "# Write to CSV\n",
    "csv_path = \"cv_data.csv\"\n",
    "with open(csv_path, \"w\", newline=\"\", encoding=\"utf-8\") as csvfile:\n",
    "    writer = csv.DictWriter(csvfile, fieldnames=data_dict.keys())\n",
    "    writer.writeheader()\n",
    "    writer.writerow(data_dict)\n",
    "\n",
    "print(f\"Data extracted and saved to {csv_path}\")"
   ]
  },
  {
   "cell_type": "code",
   "execution_count": null,
   "id": "f2c44cb1",
   "metadata": {},
   "outputs": [
    {
     "ename": "TypeError",
     "evalue": "'PDF' object is not subscriptable",
     "output_type": "error",
     "traceback": [
      "\u001b[31m---------------------------------------------------------------------------\u001b[39m",
      "\u001b[31mTypeError\u001b[39m                                 Traceback (most recent call last)",
      "\u001b[36mCell\u001b[39m\u001b[36m \u001b[39m\u001b[32mIn[15]\u001b[39m\u001b[32m, line 7\u001b[39m\n\u001b[32m      4\u001b[39m all_text = \u001b[33m\"\u001b[39m\u001b[33m\"\u001b[39m\n\u001b[32m      6\u001b[39m \u001b[38;5;28;01mwith\u001b[39;00m pdfplumber.open(pdf_path) \u001b[38;5;28;01mas\u001b[39;00m pdf:\n\u001b[32m----> \u001b[39m\u001b[32m7\u001b[39m     all_text = \u001b[43mpdf\u001b[49m\u001b[43m[\u001b[49m\u001b[32;43m0\u001b[39;49m\u001b[43m]\u001b[49m.extract_text()\n\u001b[32m      8\u001b[39m     \u001b[38;5;28mprint\u001b[39m(all_text)\n",
      "\u001b[31mTypeError\u001b[39m: 'PDF' object is not subscriptable"
     ]
    }
   ],
   "source": [
    "import pdfplumber\n",
    "\n",
    "pdf_path = \"PDFs/DA 2009 - Course Specifications.pdf\"\n",
    "all_text = \"\"\n",
    "\n",
    "with pdfplumber.open(pdf_path) as pdf:\n",
    "    for page_num, page in enumerate(pdf.pages, start=1):\n",
    "        text = page.extract_text()\n",
    "        if text:\n",
    "            all_text += f\"\\n--- Page {page_num} ---\\n{text}\"\n",
    "        else:\n",
    "            all_text += f\"\\n--- Page {page_num} ---\\n(No text found)\"\n",
    "\n",
    "print(all_text)\n"
   ]
  },
  {
   "cell_type": "code",
   "execution_count": 13,
   "id": "56496a17",
   "metadata": {},
   "outputs": [
    {
     "data": {
      "text/plain": [
       "['--- Page 1 ---',\n",
       " 'DA 2009 – Data Collection Methods II Course Specifications',\n",
       " 'Course Code DA 2009',\n",
       " 'Course Name Data Collection Methods II',\n",
       " 'Credit Value 2C',\n",
       " 'Core/Optional Core',\n",
       " 'Prerequisites None',\n",
       " 'Hourly Breakdown Theory Practical Independent Notional',\n",
       " 'Learning',\n",
       " '20 20 60 100',\n",
       " 'Course Aim:',\n",
       " 'To provide critical awareness of fundamental concepts and tools relevant to data collection from the web.',\n",
       " 'Intended Learning Outcomes:',\n",
       " 'After the successful completion of the course, the student will be able to',\n",
       " '● CLO1: demonstrate awareness of fundamental concepts in data collection from the web',\n",
       " '● CLO2: identify and apply suitable tools and techniques to extract data from the web',\n",
       " '● CLO3: practice ethical standards and professional integrity in collecting data from the web',\n",
       " 'Course Content:',\n",
       " 'Introduction to web based data collection; different forms of data available in the web; collect data using',\n",
       " 'python: introduction to python modules, basic HTML syntax, practical examples of data collection, usage of',\n",
       " 'JSON APIs; challenges in web scraping: ethical scraping, dynamic pages, handling captcha; data extraction',\n",
       " 'from pdf: read pdf tables and other information of pdf with proper format, extract data from text/excel/csv',\n",
       " 'file, introduction to OCR and its applications.',\n",
       " 'Teaching / Learning Methods:',\n",
       " 'Lectures, Videos, Discussions, Practical Sessions, Group Activities, Presentations, LMS based activities,',\n",
       " 'Independent Learning',\n",
       " 'Assessment Strategy:',\n",
       " 'Continuous Assessment Final Assessment',\n",
       " '60% 40%',\n",
       " 'Details: Theory (%) Practical (%) Other (%)',\n",
       " 'Quizzes - 20% (CLO 1, 2)',\n",
       " 'Case Studies - 40% (CLO 1, 2, 3) - 40% -',\n",
       " 'Recommended Reading:',\n",
       " '• Mitchell, R. (2018). Web scraping with Python: Collecting more data from the modern',\n",
       " 'web. \" O\\'Reilly Media, Inc.\"']"
      ]
     },
     "execution_count": 13,
     "metadata": {},
     "output_type": "execute_result"
    }
   ],
   "source": [
    "# Split lines and extract sections\n",
    "lines = [line.strip() for line in all_text.split(\"\\n\") if line.strip()]\n",
    "lines\n"
   ]
  },
  {
   "cell_type": "code",
   "execution_count": null,
   "id": "bcae910c",
   "metadata": {},
   "outputs": [
    {
     "data": {
      "image/png": "[encoded data removed]",
      "text/plain": [
       "<pdfplumber.display.PageImage at 0x23b5ffcf470>"
      ]
     },
     "execution_count": 10,
     "metadata": {},
     "output_type": "execute_result"
    }
   ],
   "source": [
    "import pdfplumber\n",
    "\n",
    "pdf_path = \"PDFs/DA 2009 - Course Specifications.pdf\"\n",
    "all_text = \"\"\n",
    "\n",
    "with pdfplumber.open(pdf_path) as pdf:\n",
    "    all_text = pdf.pages[0].extract_text()\n",
    "\n",
    "im = pdf.pages[0].to_image()\n",
    "im\n"
   ]
  },
  {
   "cell_type": "code",
   "execution_count": 17,
   "id": "573472b8",
   "metadata": {},
   "outputs": [
    {
     "name": "stdout",
     "output_type": "stream",
     "text": [
      "Page 1: [['Course Code', 'DA 2009', None, None, None, None, None], ['Course Name', 'Data Collection Methods II', None, None, None, None, None], ['Credit Value', '2C', None, None, None, None, None], ['Core/Optional', 'Core', None, None, None, None, None], ['Prerequisites', 'None', None, None, None, None, None], ['Hourly Breakdown', 'Theory', None, 'Practical', 'Independent\\nLearning', None, 'Notional'], [None, '20', None, '20', '60', None, '100'], ['Course Aim:\\nTo provide critical awareness of fundamental concepts and tools relevant to data collection from the web.', None, None, None, None, None, None], ['Intended Learning Outcomes:\\nAfter the successful completion of the course, the student will be able to\\n● CLO1: demonstrate awareness of fundamental concepts in data collection from the web\\n● CLO2: identify and apply suitable tools and techniques to extract data from the web\\n● CLO3: practice ethical standards and professional integrity in collecting data from the web', None, None, None, None, None, None], ['Course Content:\\nIntroduction to web based data collection; different forms of data available in the web; collect data using\\npython: introduction to python modules, basic HTML syntax, practical examples of data collection, usage of\\nJSON APIs; challenges in web scraping: ethical scraping, dynamic pages, handling captcha; data extraction\\nfrom pdf: read pdf tables and other information of pdf with proper format, extract data from text/excel/csv\\nfile, introduction to OCR and its applications.', None, None, None, None, None, None], ['Teaching / Learning Methods:\\nLectures, Videos, Discussions, Practical Sessions, Group Activities, Presentations, LMS based activities,\\nIndependent Learning', None, None, None, None, None, None], ['Assessment Strategy:', None, None, None, None, None, None], ['Continuous Assessment\\n60%', None, 'Final Assessment\\n40%', None, None, None, None], ['Details:\\nQuizzes - 20% (CLO 1, 2)\\nCase Studies - 40% (CLO 1, 2, 3)', None, 'Theory (%)\\n-', None, None, 'Practical (%)\\n40%', 'Other (%)\\n-'], ['Recommended Reading:\\n• Mitchell, R. (2018). Web scraping with Python: Collecting more data from the modern\\nweb. \" O\\'Reilly Media, Inc.\"', None, None, None, None, None, None]]\n"
     ]
    },
    {
     "data": {
      "text/plain": [
       "[['Course Code', 'DA 2009', None, None, None, None, None],\n",
       " ['Course Name', 'Data Collection Methods II', None, None, None, None, None],\n",
       " ['Credit Value', '2C', None, None, None, None, None],\n",
       " ['Core/Optional', 'Core', None, None, None, None, None],\n",
       " ['Prerequisites', 'None', None, None, None, None, None],\n",
       " ['Hourly Breakdown',\n",
       "  'Theory',\n",
       "  None,\n",
       "  'Practical',\n",
       "  'Independent\\nLearning',\n",
       "  None,\n",
       "  'Notional'],\n",
       " [None, '20', None, '20', '60', None, '100'],\n",
       " ['Course Aim:\\nTo provide critical awareness of fundamental concepts and tools relevant to data collection from the web.',\n",
       "  None,\n",
       "  None,\n",
       "  None,\n",
       "  None,\n",
       "  None,\n",
       "  None],\n",
       " ['Intended Learning Outcomes:\\nAfter the successful completion of the course, the student will be able to\\n● CLO1: demonstrate awareness of fundamental concepts in data collection from the web\\n● CLO2: identify and apply suitable tools and techniques to extract data from the web\\n● CLO3: practice ethical standards and professional integrity in collecting data from the web',\n",
       "  None,\n",
       "  None,\n",
       "  None,\n",
       "  None,\n",
       "  None,\n",
       "  None],\n",
       " ['Course Content:\\nIntroduction to web based data collection; different forms of data available in the web; collect data using\\npython: introduction to python modules, basic HTML syntax, practical examples of data collection, usage of\\nJSON APIs; challenges in web scraping: ethical scraping, dynamic pages, handling captcha; data extraction\\nfrom pdf: read pdf tables and other information of pdf with proper format, extract data from text/excel/csv\\nfile, introduction to OCR and its applications.',\n",
       "  None,\n",
       "  None,\n",
       "  None,\n",
       "  None,\n",
       "  None,\n",
       "  None],\n",
       " ['Teaching / Learning Methods:\\nLectures, Videos, Discussions, Practical Sessions, Group Activities, Presentations, LMS based activities,\\nIndependent Learning',\n",
       "  None,\n",
       "  None,\n",
       "  None,\n",
       "  None,\n",
       "  None,\n",
       "  None],\n",
       " ['Assessment Strategy:', None, None, None, None, None, None],\n",
       " ['Continuous Assessment\\n60%',\n",
       "  None,\n",
       "  'Final Assessment\\n40%',\n",
       "  None,\n",
       "  None,\n",
       "  None,\n",
       "  None],\n",
       " ['Details:\\nQuizzes - 20% (CLO 1, 2)\\nCase Studies - 40% (CLO 1, 2, 3)',\n",
       "  None,\n",
       "  'Theory (%)\\n-',\n",
       "  None,\n",
       "  None,\n",
       "  'Practical (%)\\n40%',\n",
       "  'Other (%)\\n-'],\n",
       " ['Recommended Reading:\\n• Mitchell, R. (2018). Web scraping with Python: Collecting more data from the modern\\nweb. \" O\\'Reilly Media, Inc.\"',\n",
       "  None,\n",
       "  None,\n",
       "  None,\n",
       "  None,\n",
       "  None,\n",
       "  None]]"
      ]
     },
     "execution_count": 17,
     "metadata": {},
     "output_type": "execute_result"
    }
   ],
   "source": [
    "import pdfplumber\n",
    "\n",
    "pdf_path = \"PDFs/DA 2009 - Course Specifications.pdf\"\n",
    "all_text = \"\"\n",
    "\n",
    "with pdfplumber.open(pdf_path) as pdf:\n",
    "    # all_text = pdf.pages[1].extract_text()\n",
    "    for i in range(len(pdf.pages)):\n",
    "        all_tables = pdf.pages[i].extract_table()\n",
    "        print(f\"Page {i+1}: {all_tables}\")\n",
    "\n",
    "all_tables\n",
    "\n"
   ]
  },
  {
   "cell_type": "code",
   "execution_count": 19,
   "id": "373bd612",
   "metadata": {},
   "outputs": [
    {
     "name": "stderr",
     "output_type": "stream",
     "text": [
      "Cannot set gray non-stroke color because /'P13' is an invalid float value\n",
      "Cannot set gray non-stroke color because /'P76' is an invalid float value\n"
     ]
    },
    {
     "name": "stdout",
     "output_type": "stream",
     "text": [
      "Page 1: None\n",
      "Page 2: None\n",
      "Page 3: None\n",
      "Page 4: None\n",
      "Page 5: None\n",
      "Page 6: None\n",
      "Page 7: [['Aspect', 'Surveys (Primary Data Collection)', 'Web-Based Data Collection'], ['Source', 'Often directly from respondents Existing online data (websites, social media)', None], ['Cost & Speed', 'Higher cost and slower speed Low cost and fast, often real-time', None], ['Control', 'Full control over questions and data\\nLimited control since data is pre-generated\\nformat', None], ['Ethics', 'Requires informed consent and Privacy and scraping legality as declared by\\nethical approval the website', None], ['Use Cases', 'Trend monitoring, large-scale behavior\\nIn-depth insights, causal analysis\\nanalysis', None]]\n",
      "Page 8: None\n",
      "Page 9: None\n",
      "Page 10: None\n",
      "Page 11: None\n",
      "Page 12: None\n",
      "Page 13: None\n",
      "Page 14: None\n",
      "Page 15: None\n",
      "Page 16: None\n",
      "Page 17: None\n",
      "Page 18: None\n",
      "Page 19: None\n",
      "Page 20: None\n",
      "Page 21: None\n",
      "Page 22: None\n",
      "Page 23: None\n",
      "Page 24: None\n",
      "Page 25: None\n",
      "Page 26: None\n",
      "Page 27: None\n",
      "Page 28: None\n"
     ]
    },
    {
     "name": "stderr",
     "output_type": "stream",
     "text": [
      "Cannot set gray non-stroke color because /'P231' is an invalid float value\n"
     ]
    },
    {
     "name": "stdout",
     "output_type": "stream",
     "text": [
      "Page 29: None\n",
      "Page 30: None\n",
      "Page 31: None\n",
      "Page 32: None\n",
      "Page 33: None\n",
      "Page 34: None\n"
     ]
    }
   ],
   "source": [
    "import pdfplumber\n",
    "\n",
    "pdf_path = \"PDFs/DA 2009 - Week 1.pdf\"\n",
    "all_text = \"\"\n",
    "\n",
    "with pdfplumber.open(pdf_path) as pdf:\n",
    "    # all_text = pdf.pages[1].extract_text()\n",
    "    for i in range(len(pdf.pages)):\n",
    "        all_tables = pdf.pages[i].extract_table()\n",
    "        print(f\"Page {i+1}: {all_tables}\")"
   ]
  },
  {
   "cell_type": "code",
   "execution_count": null,
   "id": "403725a9",
   "metadata": {},
   "outputs": [],
   "source": []
  }
 ],
 "metadata": {
  "kernelspec": {
   "display_name": ".venv",
   "language": "python",
   "name": "python3"
  },
  "language_info": {
   "codemirror_mode": {
    "name": "ipython",
    "version": 3
   },
   "file_extension": ".py",
   "mimetype": "text/x-python",
   "name": "python",
   "nbconvert_exporter": "python",
   "pygments_lexer": "ipython3",
   "version": "3.12.4"
  }
 },
 "nbformat": 4,
 "nbformat_minor": 5
}
