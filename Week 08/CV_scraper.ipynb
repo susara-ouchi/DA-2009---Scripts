{
 "cells": [
  {
   "cell_type": "markdown",
   "id": "ca456f9a",
   "metadata": {},
   "source": [
    "### CV Scraper"
   ]
  },
  {
   "cell_type": "code",
   "execution_count": null,
   "id": "9cf786b5",
   "metadata": {},
   "outputs": [
    {
     "name": "stdout",
     "output_type": "stream",
     "text": [
      "Name: John Doe\n",
      "Email: john.doe@example.com\n",
      "Phone: +1-234-567-8900\n",
      "Address: 123 Main St, City, Country\n",
      "Education:\n",
      "University: University of Example\n",
      "Degree: Bachelor of Science in Computer Science\n",
      "Career Experience:\n",
      "Company: Tech Solutions Ltd.\n",
      "Position: Software Engineer\n",
      "Duration: 2020 - Present\n",
      "Professional Certifications:\n",
      "Certified Data Scientist (CDS)\n",
      "Skills:\n",
      "Python, Machine Learning, Data Analysis, SQL, Web Development\n",
      "Projects:\n",
      "- Project A: Sales Prediction Model\n",
      "- Project B: CV Parsing Tool\n",
      "- Project C: Web App for Data Visualization\n",
      "\n"
     ]
    }
   ],
   "source": [
    "import pdfplumber\n",
    "import csv\n",
    "\n",
    "cv_pdf_path = \"PDFs/cv_sample.pdf\"\n",
    "\n",
    "with pdfplumber.open(cv_pdf_path) as pdf:\n",
    "    full_text = \"\"\n",
    "    for page in pdf.pages:\n",
    "        full_text += page.extract_text() + \"\\n\"\n",
    "    print(full_text)"
   ]
  },
  {
   "cell_type": "code",
   "execution_count": 8,
   "id": "69661d68",
   "metadata": {},
   "outputs": [
    {
     "data": {
      "text/plain": [
       "['Name: John Doe',\n",
       " 'Email: john.doe@example.com',\n",
       " 'Phone: +1-234-567-8900',\n",
       " 'Address: 123 Main St, City, Country',\n",
       " 'Education:',\n",
       " 'University: University of Example',\n",
       " 'Degree: Bachelor of Science in Computer Science',\n",
       " 'Career Experience:',\n",
       " 'Company: Tech Solutions Ltd.',\n",
       " 'Position: Software Engineer',\n",
       " 'Duration: 2020 - Present',\n",
       " 'Professional Certifications:',\n",
       " 'Certified Data Scientist (CDS)',\n",
       " 'Skills:',\n",
       " 'Python, Machine Learning, Data Analysis, SQL, Web Development',\n",
       " 'Projects:',\n",
       " '- Project A: Sales Prediction Model',\n",
       " '- Project B: CV Parsing Tool',\n",
       " '- Project C: Web App for Data Visualization',\n",
       " '']"
      ]
     },
     "execution_count": 8,
     "metadata": {},
     "output_type": "execute_result"
    }
   ],
   "source": [
    "full_text.split(\"\\n\")"
   ]
  },
  {
   "cell_type": "code",
   "execution_count": 7,
   "id": "35a0b968",
   "metadata": {},
   "outputs": [
    {
     "data": {
      "text/plain": [
       "['Name: John Doe',\n",
       " 'Email: john.doe@example.com',\n",
       " 'Phone: +1-234-567-8900',\n",
       " 'Address: 123 Main St, City, Country',\n",
       " 'Education:',\n",
       " 'University: University of Example',\n",
       " 'Degree: Bachelor of Science in Computer Science',\n",
       " 'Career Experience:',\n",
       " 'Company: Tech Solutions Ltd.',\n",
       " 'Position: Software Engineer',\n",
       " 'Duration: 2020 - Present',\n",
       " 'Professional Certifications:',\n",
       " 'Certified Data Scientist (CDS)',\n",
       " 'Skills:',\n",
       " 'Python, Machine Learning, Data Analysis, SQL, Web Development',\n",
       " 'Projects:',\n",
       " '- Project A: Sales Prediction Model',\n",
       " '- Project B: CV Parsing Tool',\n",
       " '- Project C: Web App for Data Visualization']"
      ]
     },
     "execution_count": 7,
     "metadata": {},
     "output_type": "execute_result"
    }
   ],
   "source": [
    "# Split lines and extract sections\n",
    "lines = [line.strip() for line in full_text.split(\"\\n\") if line.strip()]\n",
    "lines"
   ]
  },
  {
   "cell_type": "code",
   "execution_count": 9,
   "id": "4e2f8947",
   "metadata": {},
   "outputs": [],
   "source": [
    "import pdfplumber\n",
    "import csv\n",
    "\n",
    "cv_pdf_path = \"PDFs/cv_sample.pdf\"\n",
    "data_dict = {}\n",
    "\n",
    "with pdfplumber.open(cv_pdf_path) as pdf:\n",
    "    full_text = \"\"\n",
    "    for page in pdf.pages:\n",
    "        full_text += page.extract_text() + \"\\n\"\n",
    "\n",
    "# Split lines and extract sections\n",
    "lines = [line.strip() for line in full_text.split(\"\\n\") if line.strip()]"
   ]
  },
  {
   "cell_type": "code",
   "execution_count": 22,
   "id": "bde3cbe6",
   "metadata": {},
   "outputs": [
    {
     "data": {
      "text/plain": [
       "'Name: John Doe'"
      ]
     },
     "execution_count": 22,
     "metadata": {},
     "output_type": "execute_result"
    }
   ],
   "source": [
    "lines[0]"
   ]
  },
  {
   "cell_type": "code",
   "execution_count": 38,
   "id": "cd1afcd7",
   "metadata": {},
   "outputs": [
    {
     "name": "stdout",
     "output_type": "stream",
     "text": [
      "Full line:- Name: John Doe\n",
      "Starts with Name? True\n",
      "Splitting the line:- ['', ' John Doe']\n",
      "Getting only the name:- ' John Doe'\n",
      "Strip off white spaces:- 'John Doe'\n"
     ]
    }
   ],
   "source": [
    "print(f\"Full line:- {lines[0]}\")\n",
    "print(f\"Starts with Name? {lines[0].startswith(\"Name:\")}\")\n",
    "print(f\"Splitting the line:- {lines[0].split(\"Name:\")}\")\n",
    "print(f\"Getting only the name:- '{lines[0].split(\"Name:\")[1]}'\")\n",
    "print(f\"Strip off white spaces:- '{lines[0].split(\"Name:\")[1].strip()}'\")"
   ]
  },
  {
   "cell_type": "code",
   "execution_count": 39,
   "id": "eb191f3b",
   "metadata": {},
   "outputs": [],
   "source": [
    "for line in lines:\n",
    "    if line.startswith(\"Name:\"):\n",
    "        data_dict[\"Name\"] = line.split(\"Name:\")[1].strip()\n",
    "    elif line.startswith(\"Email:\"):\n",
    "        data_dict[\"Email\"] = line.split(\"Email:\")[1].strip()\n",
    "    elif line.startswith(\"Phone:\"):\n",
    "        data_dict[\"Phone\"] = line.split(\"Phone:\")[1].strip()\n",
    "    elif line.startswith(\"Address:\"):\n",
    "        data_dict[\"Address\"] = line.split(\"Address:\")[1].strip()\n",
    "    elif line.startswith(\"University:\"):\n",
    "        data_dict[\"University\"] = line.split(\"University:\")[1].strip()\n",
    "    elif line.startswith(\"Degree:\"):\n",
    "        data_dict[\"Degree\"] = line.split(\"Degree:\")[1].strip()\n",
    "    elif line.startswith(\"Company:\"):\n",
    "        data_dict[\"Company\"] = line.split(\"Company:\")[1].strip()\n",
    "    elif line.startswith(\"Position:\"):\n",
    "        data_dict[\"Position\"] = line.split(\"Position:\")[1].strip()\n",
    "    elif line.startswith(\"Duration:\"):\n",
    "        data_dict[\"Duration\"] = line.split(\"Duration:\")[1].strip()\n",
    "    elif line.startswith(\"Certified\"):\n",
    "        data_dict[\"Certifications\"] = line.strip()\n",
    "    elif line.startswith(\"Skills:\"):\n",
    "        data_dict[\"Skills\"] = line.split(\"Skills:\")[1].strip()\n",
    "    elif line.startswith(\"- Project\"):\n",
    "        if \"Projects\" not in data_dict:\n",
    "            data_dict[\"Projects\"] = []\n",
    "        data_dict[\"Projects\"].append(line.strip(\"- \").strip())"
   ]
  },
  {
   "cell_type": "code",
   "execution_count": 40,
   "id": "73a91807",
   "metadata": {},
   "outputs": [
    {
     "data": {
      "text/plain": [
       "{'Name': 'John Doe',\n",
       " 'Email': 'john.doe@example.com',\n",
       " 'Phone': '+1-234-567-8900',\n",
       " 'Address': '123 Main St, City, Country',\n",
       " 'University': 'University of Example',\n",
       " 'Degree': 'Bachelor of Science in Computer Science',\n",
       " 'Company': 'Tech Solutions Ltd.',\n",
       " 'Position': 'Software Engineer',\n",
       " 'Duration': '2020 - Present',\n",
       " 'Certifications': 'Certified Data Scientist (CDS)',\n",
       " 'Skills': '',\n",
       " 'Projects': ['Project A: Sales Prediction Model',\n",
       "  'Project B: CV Parsing Tool',\n",
       "  'Project C: Web App for Data Visualization']}"
      ]
     },
     "execution_count": 40,
     "metadata": {},
     "output_type": "execute_result"
    }
   ],
   "source": [
    "data_dict"
   ]
  },
  {
   "cell_type": "code",
   "execution_count": 41,
   "id": "4d7567bd",
   "metadata": {},
   "outputs": [
    {
     "name": "stdout",
     "output_type": "stream",
     "text": [
      "Data extracted and saved to Outputs/cv_data.csv\n"
     ]
    }
   ],
   "source": [
    "# Convert list of projects to a single string\n",
    "if \"Projects\" in data_dict:\n",
    "    data_dict[\"Projects\"] = \"; \".join(data_dict[\"Projects\"])\n",
    "\n",
    "# Write to CSV\n",
    "csv_path = \"Outputs/cv_data.csv\"\n",
    "with open(csv_path, \"w\", newline=\"\", encoding=\"utf-8\") as csvfile:\n",
    "    writer = csv.DictWriter(csvfile, fieldnames=data_dict.keys())\n",
    "    writer.writeheader()\n",
    "    writer.writerow(data_dict)\n",
    "\n",
    "print(f\"Data extracted and saved to {csv_path}\")"
   ]
  }
 ],
 "metadata": {
  "kernelspec": {
   "display_name": ".venv",
   "language": "python",
   "name": "python3"
  },
  "language_info": {
   "codemirror_mode": {
    "name": "ipython",
    "version": 3
   },
   "file_extension": ".py",
   "mimetype": "text/x-python",
   "name": "python",
   "nbconvert_exporter": "python",
   "pygments_lexer": "ipython3",
   "version": "3.12.4"
  }
 },
 "nbformat": 4,
 "nbformat_minor": 5
}
